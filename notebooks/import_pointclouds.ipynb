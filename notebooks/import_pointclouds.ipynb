{
  "cells": [
    {
      "cell_type": "code",
      "source": [
        "# Import dependencies\n",
        "import os\n",
        "import laspy"
      ],
      "outputs": [],
      "execution_count": null,
      "metadata": {
        "jupyter": {
          "source_hidden": false,
          "outputs_hidden": false
        },
        "nteract": {
          "transient": {
            "deleting": false
          }
        },
        "gather": {
          "logged": 1709038411039
        }
      }
    },
    {
      "cell_type": "code",
      "source": [
        "# Mount folder\n",
        "!sudo blobfuse /home/azureuser/cloudfiles/code/blobfuse/ovl --tmp-path=/mnt/resource/blobfusetmp --config-file=/home/azureuser/cloudfiles/code/blobfuse/fuse_connection_ovl.cfg -o attr_timeout=3600 -o entry_timeout=3600 -o negative_timeout=3600 -o allow_other -o nonempty"
      ],
      "outputs": [],
      "execution_count": null,
      "metadata": {
        "jupyter": {
          "source_hidden": false,
          "outputs_hidden": false
        },
        "nteract": {
          "transient": {
            "deleting": false
          }
        },
        "gather": {
          "logged": 1709038299305
        }
      }
    },
    {
      "cell_type": "code",
      "source": [
        "# Select district\n",
        "district_name = 'Nieuw-West' # SET THIS VALUE\n",
        "\n",
        "code_to_name_dict = {\n",
        "    'Oost': 'nl-amsv-201001-7415-laz',\n",
        "    'Westpoort': 'nl-amsd-200823-7415-laz',\n",
        "    'West': 'nl-amsd-200824-7415-laz',\n",
        "    'Zuid': 'nl-amsd-200903-7415-laz',\n",
        "    'Ring': 'nl-amsd-200904-7415-laz',\n",
        "    'Noord': 'nl-amsd-200918-7415-laz',\n",
        "    'Nieuw-West': 'nl-amsd-200920-7415-laz',\n",
        "    'Centrum': 'nl-amsd-200921-7415-laz',\n",
        "    'Zuidoost': 'nl-amsd-200923-7415-laz',\n",
        "    'Oost': 'nl-amsv-201001-7415-laz'\n",
        "}\n",
        "district_code = code_to_name_dict[district_name]"
      ],
      "outputs": [],
      "execution_count": null,
      "metadata": {
        "jupyter": {
          "source_hidden": false,
          "outputs_hidden": false
        },
        "nteract": {
          "transient": {
            "deleting": false
          }
        },
        "gather": {
          "logged": 1709038300343
        }
      }
    },
    {
      "cell_type": "code",
      "source": [
        "# Get path to point cloud folder\n",
        "base_folder = \"/home/azureuser/cloudfiles/code/blobfuse/ovl/\"\n",
        "in_folder_point_clouds = base_folder + \"pointcloud/Unlabeled/Amsterdam/{}/\"\"las_processor_bundled_out/\".format(district_code)\n",
        "#os.listdir(in_folder_point_clouds)"
      ],
      "outputs": [],
      "execution_count": null,
      "metadata": {
        "jupyter": {
          "source_hidden": false,
          "outputs_hidden": false
        },
        "nteract": {
          "transient": {
            "deleting": false
          }
        },
        "gather": {
          "logged": 1709038395900
        }
      }
    },
    {
      "cell_type": "code",
      "source": [
        "# Get filename for specific tile\n",
        "prefix = 'filtered_'\n",
        "extension = '.laz'\n",
        "tilecode = '2254_9708'  # This one you can change manually for now to get another location\n",
        "in_file = in_folder_point_clouds + prefix + tilecode + extension\n",
        "print(in_file)"
      ],
      "outputs": [],
      "execution_count": null,
      "metadata": {
        "gather": {
          "logged": 1709038364142
        }
      }
    },
    {
      "cell_type": "code",
      "source": [
        "# Import point cloud tile\n",
        "laz_file = laspy.read(in_file)"
      ],
      "outputs": [],
      "execution_count": null,
      "metadata": {
        "jupyter": {
          "source_hidden": false,
          "outputs_hidden": false
        },
        "nteract": {
          "transient": {
            "deleting": false
          }
        }
      }
    }
  ],
  "metadata": {
    "kernelspec": {
      "display_name": "Python 3.10 - SDK v2",
      "language": "python",
      "name": "python310-sdkv2"
    },
    "language_info": {
      "name": "python",
      "version": "3.10.9",
      "mimetype": "text/x-python",
      "codemirror_mode": {
        "name": "ipython",
        "version": 3
      },
      "pygments_lexer": "ipython3",
      "nbconvert_exporter": "python",
      "file_extension": ".py"
    },
    "microsoft": {
      "ms_spell_check": {
        "ms_spell_check_language": "nl"
      },
      "host": {
        "AzureML": {
          "notebookHasBeenCompleted": true
        }
      }
    },
    "nteract": {
      "version": "nteract-front-end@1.0.0"
    }
  },
  "nbformat": 4,
  "nbformat_minor": 2
}