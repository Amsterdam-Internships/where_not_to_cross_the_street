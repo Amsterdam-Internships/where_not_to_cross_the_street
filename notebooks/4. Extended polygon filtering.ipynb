{
  "cells": [
    {
      "cell_type": "code",
      "execution_count": 1,
      "metadata": {
        "gather": {
          "logged": 1717435067323
        }
      },
      "outputs": [],
      "source": [
        "from shapely.geometry import Polygon, Point, MultiPolygon, LineString\n",
        "import geopandas as gpd\n",
        "import pandas as pd\n",
        "import numpy as np\n",
        "import matplotlib.pyplot as plt\n",
        "import pickle"
      ]
    },
    {
      "cell_type": "markdown",
      "metadata": {},
      "source": [
        "# Notebook overview\n",
        "\n",
        "In this notebook we filter the processed extended clusters based on their shape and size. We use the same reqruiements as we did previously. \n",
        "\n",
        "**Input**: Cluster dictionary of extended polygons as created in notebook 2.\n",
        "\n",
        "**Output**: Shapely file with extended polygons containing only rectangular clusters.\n",
        "\n",
        "**Previous notebook**: 2. Point cloud processing, matching and cluster growing.\n",
        "\n",
        "**Next notebook**: 5. Merge extended polygons."
      ]
    },
    {
      "cell_type": "markdown",
      "metadata": {},
      "source": [
        "# Loading data"
      ]
    },
    {
      "cell_type": "code",
      "execution_count": 2,
      "metadata": {
        "gather": {
          "logged": 1717435071824
        }
      },
      "outputs": [],
      "source": [
        "# Load cluster dictionary\n",
        "path = \"../data/output/extension cluster dict.pkl\"\n",
        "\n",
        "with open(path, 'rb') as file:\n",
        "    clusters = pickle.load(file)"
      ]
    },
    {
      "cell_type": "markdown",
      "metadata": {},
      "source": [
        "# Plotting function"
      ]
    },
    {
      "cell_type": "code",
      "execution_count": 3,
      "metadata": {
        "gather": {
          "logged": 1717435100162
        }
      },
      "outputs": [],
      "source": [
        "# Function to plot PC polygon (can be used if desired, not necessary)\n",
        "def plot_PC_2D(PC_pol_dict, coords, intensity):\n",
        "    x = PC_pol_dict[coords][:, 0]\n",
        "    y = PC_pol_dict[coords][:, 1]\n",
        "    plt.figure()\n",
        "    plt.scatter(x, y, c=PC_pol_dict[intensity], cmap='viridis', vmin=0)\n",
        "    plt.colorbar(label='Reflective index')  # Add colorbar to show gradient values\n",
        "    plt.xlabel('X')\n",
        "    plt.ylabel('Y')\n",
        "\n",
        "    plt.grid(True)\n",
        "    plt.axis('equal')\n",
        "    plt.show()"
      ]
    },
    {
      "cell_type": "markdown",
      "metadata": {},
      "source": [
        "# Filtering polygons"
      ]
    },
    {
      "cell_type": "code",
      "execution_count": 4,
      "metadata": {
        "gather": {
          "logged": 1717435125324
        }
      },
      "outputs": [],
      "source": [
        "# Function to create shapely polygons out of the PC polygons\n",
        "def to_shapely_polygon(clusters):\n",
        "    for cluster_group in clusters:\n",
        "        for cluster in cluster_group:\n",
        "            pols = []\n",
        "            for coor in cluster['clean_coords']:\n",
        "                temp_point = Point(coor[0], coor[1])\n",
        "                buff_point = temp_point.buffer(0.08)\n",
        "                pols.append(buff_point)\n",
        "            multi_pol = MultiPolygon(pols)\n",
        "            cluster['Multi Polygon'] = multi_pol\n",
        "            cluster['Polygon'] = multi_pol.convex_hull\n",
        "    \n",
        "    return clusters"
      ]
    },
    {
      "cell_type": "code",
      "execution_count": 5,
      "metadata": {},
      "outputs": [],
      "source": [
        "clusters = to_shapely_polygon(clusters)"
      ]
    },
    {
      "cell_type": "code",
      "execution_count": 6,
      "metadata": {
        "gather": {
          "logged": 1717435125448
        }
      },
      "outputs": [],
      "source": [
        "# Function to plot the polygons\n",
        "def plot_polygon(polygon):\n",
        "    # Extract polygon coordinates\n",
        "    x_coords, y_coords = polygon.exterior.xy\n",
        "    \n",
        "    # Calculate aspect ratio based on the range of x and y coordinates\n",
        "    x_range = max(x_coords) - min(x_coords)\n",
        "    y_range = max(y_coords) - min(y_coords)\n",
        "    aspect_ratio = y_range / x_range\n",
        "    \n",
        "    # Create the plot with the calculated aspect ratio\n",
        "    fig, ax = plt.subplots(figsize=(5, 5 * aspect_ratio))  # Adjust the figsize as needed\n",
        "    ax.set_aspect('equal')  # Ensure equal aspect ratio\n",
        "    \n",
        "    # Plot the polygon\n",
        "    ax.plot(x_coords, y_coords, color='blue')\n",
        "    \n",
        "    # Show the plot\n",
        "    plt.show()"
      ]
    },
    {
      "cell_type": "code",
      "execution_count": 7,
      "metadata": {
        "gather": {
          "logged": 1717435125776
        }
      },
      "outputs": [],
      "source": [
        "# Function to check if a polygon is a crosswalk stripe\n",
        "def is_rectangle(polygon):\n",
        "\n",
        "    # We first check if the minimum rotated rectangle overlaps for at least 90% with the original polygon\n",
        "    # This filters out shapes that are not square/rectangular\n",
        "    min_rect = polygon.minimum_rotated_rectangle\n",
        "    \n",
        "    area = polygon.area/min_rect.area\n",
        "\n",
        "    if area > .90:\n",
        "        area_bool = True\n",
        "        \n",
        "    else:\n",
        "        area_bool = False\n",
        "\n",
        "    # We then check the lengths of the vertices of the polygon to see if they resemble a crosswalk stripe\n",
        "    if area_bool == True:\n",
        "        coords = min_rect.boundary.coords\n",
        "        \n",
        "        linestrings = [LineString(coords[k:k+2]) for k in range(len(coords) - 1)]\n",
        "\n",
        "        lengths = []\n",
        "\n",
        "        for line in linestrings:\n",
        "            lengths.append(line.length)\n",
        "        \n",
        "        # Define the conditions\n",
        "        condition1 = sum(1.4 <= length <= 7 for length in lengths)\n",
        "        condition2 = sum(0.6 <= length <= 0.8 for length in lengths)\n",
        "\n",
        "        # Check if the conditions are met\n",
        "        if not (condition1 == 2 and condition2 == 2):\n",
        "            area_bool = False\n",
        "\n",
        "    \n",
        "    return area, area_bool\n"
      ]
    },
    {
      "cell_type": "code",
      "execution_count": 8,
      "metadata": {
        "gather": {
          "logged": 1717435125906
        }
      },
      "outputs": [],
      "source": [
        "# Function to merge rectangular clusters of one crosswalk polygon\n",
        "def merge_clusters(clusters):\n",
        "\n",
        "    polygons = []\n",
        "    clean_coords = []\n",
        "    clean_intensity = []\n",
        "    coords = []\n",
        "    intensity = []\n",
        "\n",
        "    for cluster in clusters:\n",
        "        polygons.append(cluster['Polygon'])\n",
        "        coords.append(cluster['coordinates'])\n",
        "        intensity.append(cluster['intensity'])\n",
        "        clean_coords.append(cluster['clean_coords'])\n",
        "        clean_intensity.append(cluster['clean_intensity'])\n",
        "    \n",
        "    PC_coords = np.concatenate(coords, axis=0)\n",
        "    PC_intensity = np.concatenate(intensity, axis=0)\n",
        "    PC_coords_clean = np.concatenate(clean_coords, axis=0)\n",
        "    PC_intensity_clean = np.concatenate(clean_intensity, axis=0)\n",
        "    \n",
        "    multi_pol = MultiPolygon(polygons)\n",
        "    \n",
        "    pol = multi_pol.convex_hull\n",
        "\n",
        "    pol_dict = {'CW_index': clusters[0]['CW_index'], 'coordinates': PC_coords, 'intensity': PC_intensity, 'clean_coords': PC_coords_clean, 'clean_intensity': PC_intensity_clean, 'polygon': pol}\n",
        "\n",
        "    return pol_dict"
      ]
    },
    {
      "cell_type": "code",
      "execution_count": 9,
      "metadata": {},
      "outputs": [],
      "source": [
        "# Function to filter out duplicates in the rectangle cluster dictionary\n",
        "def filter_duplicates(data):\n",
        "    seen_lengths = set()\n",
        "    unique_items = []\n",
        "    \n",
        "    for item in data:\n",
        "        length = len(item['clean_coords'])\n",
        "        if length not in seen_lengths:\n",
        "            seen_lengths.add(length)\n",
        "            unique_items.append(item)\n",
        "    \n",
        "    return unique_items"
      ]
    },
    {
      "cell_type": "code",
      "execution_count": 10,
      "metadata": {
        "gather": {
          "logged": 1717435126067
        }
      },
      "outputs": [],
      "source": [
        "# Function to check if the polygons are rectangles \n",
        "def check_rectangles(clusters):\n",
        "    # Initialize list of rectangular clusters\n",
        "    rect_clusters = []\n",
        "\n",
        "    # Initialize list of final polygons\n",
        "    polygon_dict = []\n",
        "\n",
        "    for i in range(0, len(clusters)):\n",
        "\n",
        "        merged = merge_clusters(clusters[i])\n",
        "\n",
        "        # Initialize list to keep track of rectangular cluster dictionaries in a crosswalk\n",
        "        cluster_list = []\n",
        "\n",
        "        for cluster in clusters[i]:\n",
        "            \n",
        "            area, rect_bool = is_rectangle(cluster['Polygon'])\n",
        "            \n",
        "            if rect_bool is True:\n",
        "\n",
        "                # Append cluster to list of rectangular clusters of the crosswalk\n",
        "                cluster_list.append(cluster)        \n",
        "\n",
        "        if len(cluster_list) > 0:\n",
        "\n",
        "            rect_clusters.append(filter_duplicates(cluster_list))\n",
        "\n",
        "            # Merge clusters\n",
        "            pol = merge_clusters(cluster_list)\n",
        "\n",
        "            # Add final polygon to polygon dict\n",
        "            polygon_dict.append(pol)\n",
        "\n",
        "    return polygon_dict, rect_clusters"
      ]
    },
    {
      "cell_type": "code",
      "execution_count": 11,
      "metadata": {},
      "outputs": [],
      "source": [
        "polygon_dict, rect_clusters = check_rectangles(clusters)"
      ]
    },
    {
      "cell_type": "code",
      "execution_count": 12,
      "metadata": {},
      "outputs": [],
      "source": [
        "# Save final polygons as gdf\n",
        "path = \"../data/output/filtered extended polygons.shp\"\n",
        "polygons_df = pd.DataFrame.from_records(polygon_dict)\n",
        "polygons_df = polygons_df.drop(columns=['CW_index', 'coordinates', 'intensity', 'clean_coords', 'clean_intensity'])\n",
        "polygons_gdf = gpd.GeoDataFrame(polygons_df, crs='epsg:28992', geometry='polygon')\n",
        "polygons_gdf.to_file(path)"
      ]
    }
  ],
  "metadata": {
    "kernel_info": {
      "name": "tile2net"
    },
    "kernelspec": {
      "display_name": "Python 3 (ipykernel)",
      "language": "python",
      "name": "python3"
    },
    "language_info": {
      "codemirror_mode": {
        "name": "ipython",
        "version": 3
      },
      "file_extension": ".py",
      "mimetype": "text/x-python",
      "name": "python",
      "nbconvert_exporter": "python",
      "pygments_lexer": "ipython3",
      "version": "3.11.8"
    },
    "microsoft": {
      "host": {
        "AzureML": {
          "notebookHasBeenCompleted": true
        }
      },
      "ms_spell_check": {
        "ms_spell_check_language": "en"
      }
    },
    "nteract": {
      "version": "nteract-front-end@1.0.0"
    }
  },
  "nbformat": 4,
  "nbformat_minor": 2
}
