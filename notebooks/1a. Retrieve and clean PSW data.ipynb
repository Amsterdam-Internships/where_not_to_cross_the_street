{
  "cells": [
    {
      "cell_type": "markdown",
      "id": "7c5326ee",
      "metadata": {},
      "source": [
        "# Retrieve and clean project sidewalk data"
      ]
    },
    {
      "cell_type": "code",
      "execution_count": 1,
      "id": "78547941",
      "metadata": {
        "gather": {
          "logged": 1711541275149
        }
      },
      "outputs": [],
      "source": [
        "import requests\n",
        "import geopandas as gpd\n",
        "import pandas as pd"
      ]
    },
    {
      "cell_type": "markdown",
      "id": "39b45d8d",
      "metadata": {},
      "source": [
        "### Settings"
      ]
    },
    {
      "cell_type": "code",
      "execution_count": 2,
      "id": "69b1645b",
      "metadata": {
        "gather": {
          "logged": 1711541553375
        }
      },
      "outputs": [],
      "source": [
        "CRS = 'epsg:28992'\n",
        "CRS_map = 'epsg:4326'"
      ]
    },
    {
      "cell_type": "markdown",
      "id": "6e81e822",
      "metadata": {},
      "source": [
        "## Get project sidewalk data"
      ]
    },
    {
      "cell_type": "code",
      "execution_count": 3,
      "id": "782c3134",
      "metadata": {
        "gather": {
          "logged": 1706697783904
        }
      },
      "outputs": [],
      "source": [
        "# Get correct URL\n",
        "base_url = \"https://sidewalk-amsterdam.cs.washington.edu/v2/access/attributesWithLabels?lat1={}&lng1={}&lat2={}&lng2={}\" \n",
        "amsterdam_bbox_coords = (52.265, 4.73, 52.435, 5.07)\n",
        "url = base_url.format(*amsterdam_bbox_coords)"
      ]
    },
    {
      "cell_type": "code",
      "execution_count": 4,
      "id": "28bf7d4b",
      "metadata": {
        "gather": {
          "logged": 1706697786918
        }
      },
      "outputs": [],
      "source": [
        "# Retrieve data\n",
        "project_sidewalk_labels = requests.get(url.format(*amsterdam_bbox_coords)).json()"
      ]
    },
    {
      "cell_type": "markdown",
      "id": "7936041d",
      "metadata": {},
      "source": [
        "### Create sidewalk data geodataframe"
      ]
    },
    {
      "cell_type": "code",
      "execution_count": 5,
      "id": "2fd2398e",
      "metadata": {
        "gather": {
          "logged": 1706697787343
        }
      },
      "outputs": [
        {
          "data": {
            "text/html": [
              "<div>\n",
              "<style scoped>\n",
              "    .dataframe tbody tr th:only-of-type {\n",
              "        vertical-align: middle;\n",
              "    }\n",
              "\n",
              "    .dataframe tbody tr th {\n",
              "        vertical-align: top;\n",
              "    }\n",
              "\n",
              "    .dataframe thead th {\n",
              "        text-align: right;\n",
              "    }\n",
              "</style>\n",
              "<table border=\"1\" class=\"dataframe\">\n",
              "  <thead>\n",
              "    <tr style=\"text-align: right;\">\n",
              "      <th></th>\n",
              "      <th>geometry</th>\n",
              "      <th>attribute_id</th>\n",
              "      <th>label_type</th>\n",
              "      <th>street_edge_id</th>\n",
              "      <th>osm_street_id</th>\n",
              "      <th>neighborhood</th>\n",
              "      <th>severity</th>\n",
              "      <th>is_temporary</th>\n",
              "      <th>label_id</th>\n",
              "      <th>gsv_panorama_id</th>\n",
              "      <th>...</th>\n",
              "      <th>image_capture_date</th>\n",
              "      <th>label_date</th>\n",
              "      <th>label_severity</th>\n",
              "      <th>label_is_temporary</th>\n",
              "      <th>agree_count</th>\n",
              "      <th>disagree_count</th>\n",
              "      <th>notsure_count</th>\n",
              "      <th>label_tags</th>\n",
              "      <th>label_description</th>\n",
              "      <th>user_id</th>\n",
              "    </tr>\n",
              "  </thead>\n",
              "  <tbody>\n",
              "    <tr>\n",
              "      <th>0</th>\n",
              "      <td>POINT (124044.481 486005.544)</td>\n",
              "      <td>468706</td>\n",
              "      <td>CurbRamp</td>\n",
              "      <td>22157</td>\n",
              "      <td>195649386</td>\n",
              "      <td>Zuidwestkwadrant Indische buurt</td>\n",
              "      <td>1.0</td>\n",
              "      <td>False</td>\n",
              "      <td>31039</td>\n",
              "      <td>NBEqPUMDUqKwPhwBf26iiQ</td>\n",
              "      <td>...</td>\n",
              "      <td>2022-04</td>\n",
              "      <td>2023-05-03 08:24:32.511</td>\n",
              "      <td>1.0</td>\n",
              "      <td>False</td>\n",
              "      <td>0</td>\n",
              "      <td>0</td>\n",
              "      <td>0</td>\n",
              "      <td>[]</td>\n",
              "      <td>None</td>\n",
              "      <td>fae98f96-fccf-459b-a4f3-c3e9126b460e</td>\n",
              "    </tr>\n",
              "    <tr>\n",
              "      <th>1</th>\n",
              "      <td>POINT (124042.998 486007.251)</td>\n",
              "      <td>468703</td>\n",
              "      <td>CurbRamp</td>\n",
              "      <td>22157</td>\n",
              "      <td>195649386</td>\n",
              "      <td>Zuidwestkwadrant Indische buurt</td>\n",
              "      <td>1.0</td>\n",
              "      <td>False</td>\n",
              "      <td>31042</td>\n",
              "      <td>UNHLw0adBnLFakzcnj5MqA</td>\n",
              "      <td>...</td>\n",
              "      <td>2022-04</td>\n",
              "      <td>2023-05-03 08:25:11.103</td>\n",
              "      <td>1.0</td>\n",
              "      <td>False</td>\n",
              "      <td>0</td>\n",
              "      <td>0</td>\n",
              "      <td>0</td>\n",
              "      <td>[]</td>\n",
              "      <td>None</td>\n",
              "      <td>fae98f96-fccf-459b-a4f3-c3e9126b460e</td>\n",
              "    </tr>\n",
              "    <tr>\n",
              "      <th>2</th>\n",
              "      <td>POINT (124042.727 486010.648)</td>\n",
              "      <td>468707</td>\n",
              "      <td>CurbRamp</td>\n",
              "      <td>22157</td>\n",
              "      <td>195649386</td>\n",
              "      <td>Zuidwestkwadrant Indische buurt</td>\n",
              "      <td>1.0</td>\n",
              "      <td>False</td>\n",
              "      <td>31043</td>\n",
              "      <td>UNHLw0adBnLFakzcnj5MqA</td>\n",
              "      <td>...</td>\n",
              "      <td>2022-04</td>\n",
              "      <td>2023-05-03 08:25:18.43</td>\n",
              "      <td>1.0</td>\n",
              "      <td>False</td>\n",
              "      <td>0</td>\n",
              "      <td>0</td>\n",
              "      <td>0</td>\n",
              "      <td>[]</td>\n",
              "      <td>None</td>\n",
              "      <td>fae98f96-fccf-459b-a4f3-c3e9126b460e</td>\n",
              "    </tr>\n",
              "    <tr>\n",
              "      <th>3</th>\n",
              "      <td>POINT (124045.596 486012.328)</td>\n",
              "      <td>468705</td>\n",
              "      <td>CurbRamp</td>\n",
              "      <td>22157</td>\n",
              "      <td>195649386</td>\n",
              "      <td>Zuidwestkwadrant Indische buurt</td>\n",
              "      <td>1.0</td>\n",
              "      <td>False</td>\n",
              "      <td>31040</td>\n",
              "      <td>NBEqPUMDUqKwPhwBf26iiQ</td>\n",
              "      <td>...</td>\n",
              "      <td>2022-04</td>\n",
              "      <td>2023-05-03 08:24:53.571</td>\n",
              "      <td>1.0</td>\n",
              "      <td>False</td>\n",
              "      <td>0</td>\n",
              "      <td>0</td>\n",
              "      <td>0</td>\n",
              "      <td>[]</td>\n",
              "      <td>None</td>\n",
              "      <td>fae98f96-fccf-459b-a4f3-c3e9126b460e</td>\n",
              "    </tr>\n",
              "    <tr>\n",
              "      <th>4</th>\n",
              "      <td>POINT (124899.861 485946.349)</td>\n",
              "      <td>463042</td>\n",
              "      <td>CurbRamp</td>\n",
              "      <td>3253</td>\n",
              "      <td>7044940</td>\n",
              "      <td>Zuidoostkwadrant Indische buurt</td>\n",
              "      <td>3.0</td>\n",
              "      <td>False</td>\n",
              "      <td>31051</td>\n",
              "      <td>tzozHRKm6OXWhq2HGwA2Bw</td>\n",
              "      <td>...</td>\n",
              "      <td>2022-02</td>\n",
              "      <td>2023-05-04 10:04:11.187</td>\n",
              "      <td>2.0</td>\n",
              "      <td>False</td>\n",
              "      <td>0</td>\n",
              "      <td>0</td>\n",
              "      <td>0</td>\n",
              "      <td>[debris / pooled water]</td>\n",
              "      <td>None</td>\n",
              "      <td>d64192aa-666b-47fd-85ed-a57042ce4ab5</td>\n",
              "    </tr>\n",
              "  </tbody>\n",
              "</table>\n",
              "<p>5 rows × 28 columns</p>\n",
              "</div>"
            ],
            "text/plain": [
              "                        geometry  attribute_id label_type  street_edge_id  \\\n",
              "0  POINT (124044.481 486005.544)        468706   CurbRamp           22157   \n",
              "1  POINT (124042.998 486007.251)        468703   CurbRamp           22157   \n",
              "2  POINT (124042.727 486010.648)        468707   CurbRamp           22157   \n",
              "3  POINT (124045.596 486012.328)        468705   CurbRamp           22157   \n",
              "4  POINT (124899.861 485946.349)        463042   CurbRamp            3253   \n",
              "\n",
              "   osm_street_id                     neighborhood  severity  is_temporary  \\\n",
              "0      195649386  Zuidwestkwadrant Indische buurt       1.0         False   \n",
              "1      195649386  Zuidwestkwadrant Indische buurt       1.0         False   \n",
              "2      195649386  Zuidwestkwadrant Indische buurt       1.0         False   \n",
              "3      195649386  Zuidwestkwadrant Indische buurt       1.0         False   \n",
              "4        7044940  Zuidoostkwadrant Indische buurt       3.0         False   \n",
              "\n",
              "   label_id         gsv_panorama_id  ...  image_capture_date  \\\n",
              "0     31039  NBEqPUMDUqKwPhwBf26iiQ  ...             2022-04   \n",
              "1     31042  UNHLw0adBnLFakzcnj5MqA  ...             2022-04   \n",
              "2     31043  UNHLw0adBnLFakzcnj5MqA  ...             2022-04   \n",
              "3     31040  NBEqPUMDUqKwPhwBf26iiQ  ...             2022-04   \n",
              "4     31051  tzozHRKm6OXWhq2HGwA2Bw  ...             2022-02   \n",
              "\n",
              "                label_date  label_severity  label_is_temporary  agree_count  \\\n",
              "0  2023-05-03 08:24:32.511             1.0               False            0   \n",
              "1  2023-05-03 08:25:11.103             1.0               False            0   \n",
              "2   2023-05-03 08:25:18.43             1.0               False            0   \n",
              "3  2023-05-03 08:24:53.571             1.0               False            0   \n",
              "4  2023-05-04 10:04:11.187             2.0               False            0   \n",
              "\n",
              "   disagree_count  notsure_count               label_tags label_description  \\\n",
              "0               0              0                       []              None   \n",
              "1               0              0                       []              None   \n",
              "2               0              0                       []              None   \n",
              "3               0              0                       []              None   \n",
              "4               0              0  [debris / pooled water]              None   \n",
              "\n",
              "                                user_id  \n",
              "0  fae98f96-fccf-459b-a4f3-c3e9126b460e  \n",
              "1  fae98f96-fccf-459b-a4f3-c3e9126b460e  \n",
              "2  fae98f96-fccf-459b-a4f3-c3e9126b460e  \n",
              "3  fae98f96-fccf-459b-a4f3-c3e9126b460e  \n",
              "4  d64192aa-666b-47fd-85ed-a57042ce4ab5  \n",
              "\n",
              "[5 rows x 28 columns]"
            ]
          },
          "execution_count": 5,
          "metadata": {},
          "output_type": "execute_result"
        }
      ],
      "source": [
        "p_sw_gdf = gpd.GeoDataFrame.from_features(project_sidewalk_labels['features'], crs=CRS_map)\n",
        "p_sw_gdf = p_sw_gdf.to_crs(CRS)\n",
        "p_sw_gdf.head()"
      ]
    },
    {
      "cell_type": "code",
      "execution_count": 6,
      "id": "86e8506f",
      "metadata": {},
      "outputs": [],
      "source": [
        "# Save data \n",
        "# p_sw_gdf.to_csv(\"/home/azureuser/cloudfiles/code/Users/l.vanoorschot/Project sidewalk/saved dataframes/psw Amsterdam df\", index=False)"
      ]
    },
    {
      "cell_type": "markdown",
      "id": "da95144e-f6b5-4f06-8904-2c480e47e075",
      "metadata": {},
      "source": [
        "### Get mask of area"
      ]
    },
    {
      "cell_type": "code",
      "execution_count": 7,
      "id": "bd21297c-34ed-4968-934f-bb69fab0a972",
      "metadata": {
        "gather": {
          "logged": 1706697788165
        },
        "jupyter": {
          "outputs_hidden": false,
          "source_hidden": false
        },
        "nteract": {
          "transient": {
            "deleting": false
          }
        }
      },
      "outputs": [
        {
          "data": {
            "text/html": [
              "<div>\n",
              "<style scoped>\n",
              "    .dataframe tbody tr th:only-of-type {\n",
              "        vertical-align: middle;\n",
              "    }\n",
              "\n",
              "    .dataframe tbody tr th {\n",
              "        vertical-align: top;\n",
              "    }\n",
              "\n",
              "    .dataframe thead th {\n",
              "        text-align: right;\n",
              "    }\n",
              "</style>\n",
              "<table border=\"1\" class=\"dataframe\">\n",
              "  <thead>\n",
              "    <tr style=\"text-align: right;\">\n",
              "      <th></th>\n",
              "      <th>geometry</th>\n",
              "      <th>code</th>\n",
              "      <th>naam</th>\n",
              "    </tr>\n",
              "  </thead>\n",
              "  <tbody>\n",
              "    <tr>\n",
              "      <th>0</th>\n",
              "      <td>POLYGON ((121536.251 488898.477, 121550.576 48...</td>\n",
              "      <td>AA</td>\n",
              "      <td>Haarlemmerbuurt</td>\n",
              "    </tr>\n",
              "    <tr>\n",
              "      <th>1</th>\n",
              "      <td>POLYGON ((120675.483 487550.142, 120673.947 48...</td>\n",
              "      <td>AB</td>\n",
              "      <td>Jordaan</td>\n",
              "    </tr>\n",
              "  </tbody>\n",
              "</table>\n",
              "</div>"
            ],
            "text/plain": [
              "                                            geometry code             naam\n",
              "0  POLYGON ((121536.251 488898.477, 121550.576 48...   AA  Haarlemmerbuurt\n",
              "1  POLYGON ((120675.483 487550.142, 120673.947 48...   AB          Jordaan"
            ]
          },
          "execution_count": 7,
          "metadata": {},
          "output_type": "execute_result"
        }
      ],
      "source": [
        "# Select area granularity (buurten/wijken/ggwgebieden/stadsdelen)\n",
        "area_choice = 'wijken'\n",
        "\n",
        "# Get area data\n",
        "area_url = \"https://api.data.amsterdam.nl/v1/gebieden/\" + area_choice + \"/?_format=geojson\" \n",
        "gdf_area_raw = gpd.read_file(area_url)\n",
        "\n",
        "# Select columns of geodataframe\n",
        "gdf_area = gdf_area_raw[['geometry', 'code', 'naam']]\n",
        "\n",
        "# Adjust CRS\n",
        "gdf_area = gdf_area.to_crs(CRS)\n",
        "gdf_area.head(2)"
      ]
    },
    {
      "cell_type": "markdown",
      "id": "147e575d-8575-4d65-9f03-02666abdb294",
      "metadata": {},
      "source": [
        "### Extract sidewalk data in polygon of area"
      ]
    },
    {
      "cell_type": "code",
      "execution_count": 8,
      "id": "96244c21",
      "metadata": {},
      "outputs": [],
      "source": [
        "# Function to get psw data from certain wijk\n",
        "def get_psw_df(wijk):\n",
        "    polygon = gdf_area[gdf_area['naam'] == wijk].iloc[0]['geometry']\n",
        "    sw_data_in_area_mask = polygon.contains(p_sw_gdf['geometry'])\n",
        "    p_sw_area_gdf = p_sw_gdf.loc[sw_data_in_area_mask]\n",
        "\n",
        "    return p_sw_area_gdf"
      ]
    },
    {
      "cell_type": "code",
      "execution_count": 9,
      "id": "ca0932da",
      "metadata": {},
      "outputs": [],
      "source": [
        "# Get Osdorp and Venserpolder data\n",
        "Osdorp_df = get_psw_df(\"Osdorp-Midden\")\n",
        "Venserpolder_df = get_psw_df(\"Venserpolder\")"
      ]
    },
    {
      "cell_type": "code",
      "execution_count": 10,
      "id": "e4fc9b0e",
      "metadata": {},
      "outputs": [],
      "source": [
        "# Save data\n",
        "# Osdorp_df.to_csv(\"../../data/raw PSW df Osdorp-Midden\", index=False)"
      ]
    },
    {
      "cell_type": "markdown",
      "id": "daf09a83",
      "metadata": {},
      "source": [
        "## Clean data"
      ]
    },
    {
      "cell_type": "code",
      "execution_count": 11,
      "id": "b937db7f",
      "metadata": {},
      "outputs": [],
      "source": [
        "# Load PSW data to clean\n",
        "psw_Amsterdam_raw = pd.read_csv('../data/PSW dfs/raw PSW df Amsterdam')\n",
        "psw_Osdorp_raw = pd.read_csv('../data/PSW dfs/raw PSW df Osdorp-Midden')"
      ]
    },
    {
      "cell_type": "code",
      "execution_count": 12,
      "id": "f0bd9699",
      "metadata": {},
      "outputs": [],
      "source": [
        "# Drop unnecessary (for now)\n",
        "psw_Ams_raw = psw_Amsterdam_raw.drop(['heading', 'label_is_temporary','pitch', 'zoom', 'label_id', 'gsv_panorama_id','canvas_x', 'canvas_y', 'canvas_width', 'street_edge_id', 'canvas_height', 'gsv_url', 'label_date', 'label_severity', 'neighborhood', 'label_description', 'user_id'], axis=1)\n",
        "psw_Os_raw = psw_Osdorp_raw.drop(['heading', 'pitch', 'label_is_temporary', 'zoom', 'canvas_x', 'label_id','canvas_y','gsv_panorama_id', 'canvas_width', 'street_edge_id', 'canvas_height', 'gsv_url', 'label_date', 'label_severity', 'neighborhood', 'label_description', 'user_id'], axis=1)"
      ]
    },
    {
      "cell_type": "code",
      "execution_count": 13,
      "id": "ee7ddb7e",
      "metadata": {},
      "outputs": [],
      "source": [
        "# Create DF for each type of annotation\n",
        "cross_Ams_dupes = psw_Ams_raw[(psw_Ams_raw['label_type'] == 'Crosswalk')]\n",
        "curbs_Ams_dupes = psw_Ams_raw[(psw_Ams_raw['label_type'] == 'CurbRamp')]\n",
        "mCurbs_Ams_dupes = psw_Ams_raw[(psw_Ams_raw['label_type'] == 'NoCurbRamp')]\n",
        "\n",
        "cross_Os_dupes = psw_Os_raw[(psw_Os_raw['label_type'] == 'Crosswalk')]\n",
        "curbs_Os_dupes = psw_Os_raw[(psw_Os_raw['label_type'] == 'CurbRamp')]\n",
        "mCurbs_Os_dupes = psw_Os_raw[(psw_Os_raw['label_type'] == 'NoCurbRamp')]"
      ]
    },
    {
      "cell_type": "markdown",
      "id": "28f59102",
      "metadata": {},
      "source": [
        "### Validation filter\n",
        "We only want annotations that are sufficiently validated. This means we filter out:\n",
        "- Annotations of which the disagree count is higher than the agree count\n",
        "- Annotations of which the disagree count plus the not sure count is higher than the agree count\n",
        "- Annotations that have an agree count of zero"
      ]
    },
    {
      "cell_type": "code",
      "execution_count": 14,
      "id": "2c629bcf",
      "metadata": {},
      "outputs": [],
      "source": [
        "# Function to only keep sufficiently validated rows\n",
        "def validation(df):\n",
        "    validated = df[(df['disagree_count'] < df['agree_count']) & \n",
        "                        ((df['disagree_count'] + df['notsure_count']) < df['agree_count']) &\n",
        "                        ((df[\"agree_count\"] != 0))]\n",
        "    return validated"
      ]
    },
    {
      "cell_type": "code",
      "execution_count": 15,
      "id": "0ad2d026",
      "metadata": {},
      "outputs": [],
      "source": [
        "# Only keep sufficiently validated rows\n",
        "cross_Ams_val = validation(cross_Ams_dupes)\n",
        "curbs_Ams_val = validation(curbs_Ams_dupes)\n",
        "mCurbs_Ams_val = validation(mCurbs_Ams_dupes)\n",
        "\n",
        "cross_Os_val = validation(cross_Os_dupes)\n",
        "curbs_Os_val = validation(curbs_Os_dupes) \n",
        "mCurbs_Os_val = validation(mCurbs_Os_dupes)"
      ]
    },
    {
      "cell_type": "markdown",
      "id": "51e12a94",
      "metadata": {},
      "source": [
        "### Removing duplicates\n",
        "The project sidewalk data has duplicate annotations. We filter these out based on their location."
      ]
    },
    {
      "cell_type": "code",
      "execution_count": 16,
      "id": "972b6c8c",
      "metadata": {},
      "outputs": [],
      "source": [
        "# Function to remove duplicates\n",
        "def duplicates(df):\n",
        "    # Sort df by geometry and agree count\n",
        "    df_sorted = df.sort_values(by=['geometry', 'agree_count'], ascending=[True, False])\n",
        "   \n",
        "    # Group by geometry and aggregate the rows\n",
        "    df_aggregated = df_sorted.groupby('geometry').agg({'attribute_id': 'first', \n",
        "                                                    'label_type': 'first',\n",
        "                                                    'osm_street_id' : 'first',\n",
        "                                                    'severity': 'first',\n",
        "                                                    'is_temporary': 'first',\n",
        "                                                    'image_capture_date': 'first',\n",
        "                                                    'agree_count': 'first',\n",
        "                                                    'disagree_count': 'first',\n",
        "                                                    'notsure_count': 'first',\n",
        "                                                    'label_tags':  lambda x: list(x)\n",
        "                                                    }).reset_index()\n",
        "    \n",
        "    return df_aggregated"
      ]
    },
    {
      "cell_type": "code",
      "execution_count": 17,
      "id": "c0297e91",
      "metadata": {},
      "outputs": [],
      "source": [
        "# Remove duplicates data\n",
        "cross_Ams_noDupes = duplicates(cross_Ams_val)\n",
        "curbs_Ams_noDupes = duplicates(curbs_Ams_val)\n",
        "mCurbs_Ams_noDupes = duplicates(mCurbs_Ams_val)\n",
        "\n",
        "cross_Os_noDupes = duplicates(cross_Os_val)\n",
        "curbs_Os_noDupes = duplicates(curbs_Os_val)\n",
        "mCurbs_Os_noDupes = duplicates(mCurbs_Os_val)"
      ]
    },
    {
      "cell_type": "markdown",
      "id": "cd5731c5",
      "metadata": {},
      "source": [
        "### Add point cloud location"
      ]
    },
    {
      "cell_type": "code",
      "execution_count": 18,
      "id": "f80c08b9",
      "metadata": {},
      "outputs": [],
      "source": [
        "# Function for adding point cloud coordinate labels to df \n",
        "def add_PC_coordinates(PSW_df):\n",
        "\n",
        "    coordinates = PSW_df['geometry']\n",
        "    pc_coordinates = []\n",
        "\n",
        "    for val in coordinates: \n",
        "        coordinates_str = val.replace(\"POINT (\", \"\").replace(\")\", \"\")\n",
        "        x_str, y_str = coordinates_str.split()\n",
        "        x = int(float(x_str) / 50)\n",
        "        y = int(float(y_str) / 50)\n",
        "        pc_coordinates.append(f\"filtered_{x}_{y}\")\n",
        "    \n",
        "    PSW_df['pc_file_name'] = pc_coordinates\n",
        "\n",
        "    return PSW_df"
      ]
    },
    {
      "cell_type": "code",
      "execution_count": 19,
      "id": "4a166c3c",
      "metadata": {},
      "outputs": [],
      "source": [
        "# Add point cloud file location to data\n",
        "cross_Ams = add_PC_coordinates(cross_Ams_noDupes)\n",
        "curbs_Ams = add_PC_coordinates(curbs_Ams_noDupes)\n",
        "mCurbs_Ams = add_PC_coordinates(mCurbs_Ams_noDupes)\n",
        "\n",
        "cross_Os = add_PC_coordinates(cross_Os_noDupes)\n",
        "curbs_Os = add_PC_coordinates(curbs_Os_noDupes)\n",
        "mCurbs_Os = add_PC_coordinates(mCurbs_Os_noDupes)"
      ]
    },
    {
      "cell_type": "markdown",
      "id": "1aa2cfa8",
      "metadata": {},
      "source": [
        "### Count annotations"
      ]
    },
    {
      "cell_type": "code",
      "execution_count": 20,
      "id": "78dc25aa",
      "metadata": {},
      "outputs": [
        {
          "name": "stdout",
          "output_type": "stream",
          "text": [
            "Crossings total: 786\n",
            "Curbs total: 2514\n",
            "Missing curbs total: 318\n",
            "Crossings Osdorp: 106\n",
            "Curbs Osdorp: 432\n",
            "Missing curbs Osdorp: 18\n"
          ]
        }
      ],
      "source": [
        "# Count annotations\n",
        "print(\"Crossings total:\", len(cross_Ams))\n",
        "print(\"Curbs total:\", len(curbs_Ams))\n",
        "print(\"Missing curbs total:\", len(mCurbs_Ams))\n",
        "print(\"Crossings Osdorp:\", len(cross_Os))\n",
        "print(\"Curbs Osdorp:\", len(curbs_Os))\n",
        "print(\"Missing curbs Osdorp:\", len(mCurbs_Os))"
      ]
    },
    {
      "cell_type": "markdown",
      "id": "31bb1db9",
      "metadata": {},
      "source": [
        "### Save data"
      ]
    },
    {
      "cell_type": "code",
      "execution_count": 21,
      "id": "0969ac2f",
      "metadata": {},
      "outputs": [],
      "source": [
        "# cross_Ams.to_csv(\"../../data/clean CW PSW df Amsterdam\", index=False)\n",
        "# cross_Os.to_csv(\"../../data/clean CW PSW df Osdorp-Midden\", index=False)\n",
        "\n",
        "# curbs_Ams.to_csv(\"../../data/clean curb PSW df Amsterdam\", index=False)\n",
        "# curbs_Os.to_csv(\"../../data/clean curb PSW df Osdorp-Midden\", index=False)\n",
        "\n",
        "# mCurbs_Ams.to_csv(\"../../data/clean missing curb PSW df Amsterdam\", index=False)\n",
        "# mCurbs_Os.to_csv(\"../../data/clean missing curb PSW df Osdorp-Midden\", index=False)"
      ]
    },
    {
      "cell_type": "code",
      "execution_count": 22,
      "id": "7575e3d4",
      "metadata": {},
      "outputs": [],
      "source": [
        "# Merge dataframes\n",
        "Ams_complete = pd.concat([cross_Ams, curbs_Ams, mCurbs_Ams])\n",
        "Os_complete = pd.concat([cross_Os, curbs_Os, mCurbs_Os])\n",
        "\n",
        "# Reset the index\n",
        "Ams_complete = Ams_complete.reset_index(drop=True)\n",
        "Os_complete = Os_complete.reset_index(drop=True)"
      ]
    },
    {
      "cell_type": "code",
      "execution_count": 23,
      "id": "c6cd9408",
      "metadata": {},
      "outputs": [],
      "source": [
        "# Ams_complete.to_csv(\"../../data/clean PSW df Amsterdam\", index=False)\n",
        "# Os_complete.to_csv(\"../../data/clean PSW df Osdorp-Midden\", index=False)"
      ]
    }
  ],
  "metadata": {
    "kernel_info": {
      "name": "python38-azureml"
    },
    "kernelspec": {
      "display_name": "Python tile2net",
      "language": "python",
      "name": "tile2net"
    },
    "microsoft": {
      "host": {
        "AzureML": {
          "notebookHasBeenCompleted": true
        }
      },
      "ms_spell_check": {
        "ms_spell_check_language": "en"
      }
    },
    "nteract": {
      "version": "nteract-front-end@1.0.0"
    }
  },
  "nbformat": 4,
  "nbformat_minor": 5
}
