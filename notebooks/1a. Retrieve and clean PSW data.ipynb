{
  "cells": [
    {
      "cell_type": "markdown",
      "id": "7c5326ee",
      "metadata": {},
      "source": [
        "# Retrieve and clean project sidewalk data"
      ]
    },
    {
      "cell_type": "code",
      "execution_count": 41,
      "id": "78547941",
      "metadata": {
        "gather": {
          "logged": 1716574182950
        }
      },
      "outputs": [],
      "source": [
        "import requests\n",
        "import geopandas as gpd\n",
        "import pandas as pd"
      ]
    },
    {
      "cell_type": "markdown",
      "id": "39b45d8d",
      "metadata": {},
      "source": [
        "## Settings"
      ]
    },
    {
      "cell_type": "code",
      "execution_count": 42,
      "id": "69b1645b",
      "metadata": {
        "gather": {
          "logged": 1711541553375
        }
      },
      "outputs": [],
      "source": [
        "# Select the correct coordinate systems\n",
        "CRS = 'epsg:28992'\n",
        "CRS_map = 'epsg:4326'"
      ]
    },
    {
      "cell_type": "markdown",
      "id": "6e81e822",
      "metadata": {},
      "source": [
        "## Get project sidewalk data"
      ]
    },
    {
      "cell_type": "code",
      "execution_count": 43,
      "id": "782c3134",
      "metadata": {
        "gather": {
          "logged": 1706697783904
        }
      },
      "outputs": [],
      "source": [
        "# Set correct URL for the Project Sidewalk data you want to use\n",
        "base_url = \"https://sidewalk-amsterdam.cs.washington.edu/v2/access/attributesWithLabels?lat1={}&lng1={}&lat2={}&lng2={}\" \n",
        "amsterdam_bbox_coords = (52.265, 4.73, 52.435, 5.07)\n",
        "url = base_url.format(*amsterdam_bbox_coords)"
      ]
    },
    {
      "cell_type": "code",
      "execution_count": 44,
      "id": "28bf7d4b",
      "metadata": {
        "gather": {
          "logged": 1706697786918
        }
      },
      "outputs": [],
      "source": [
        "# Retrieve Project Sidewalk data\n",
        "project_sidewalk_labels = requests.get(url.format(*amsterdam_bbox_coords)).json()"
      ]
    },
    {
      "cell_type": "markdown",
      "id": "7936041d",
      "metadata": {},
      "source": [
        "### Create sidewalk data geodataframe"
      ]
    },
    {
      "cell_type": "code",
      "execution_count": 45,
      "id": "2fd2398e",
      "metadata": {
        "gather": {
          "logged": 1706697787343
        }
      },
      "outputs": [],
      "source": [
        "# Transform the Project Sidewalk data to a GeoDataFrame\n",
        "p_sw_gdf = gpd.GeoDataFrame.from_features(project_sidewalk_labels['features'], crs=CRS_map)\n",
        "p_sw_gdf = p_sw_gdf.to_crs(CRS)"
      ]
    },
    {
      "cell_type": "markdown",
      "id": "da95144e-f6b5-4f06-8904-2c480e47e075",
      "metadata": {},
      "source": [
        "### Get mask of area of interest"
      ]
    },
    {
      "cell_type": "code",
      "execution_count": 54,
      "id": "bd21297c-34ed-4968-934f-bb69fab0a972",
      "metadata": {
        "gather": {
          "logged": 1706697788165
        },
        "jupyter": {
          "outputs_hidden": false,
          "source_hidden": false
        },
        "nteract": {
          "transient": {
            "deleting": false
          }
        }
      },
      "outputs": [],
      "source": [
        "# Select area granularity (buurten/wijken/ggwgebieden/stadsdelen)\n",
        "area_choice = 'wijken'\n",
        "\n",
        "# Get area data\n",
        "area_url = \"https://api.data.amsterdam.nl/v1/gebieden/\" + area_choice + \"/?_format=geojson\" \n",
        "gdf_area_raw = gpd.read_file(area_url)\n",
        "\n",
        "# Select columns of geodataframe\n",
        "gdf_area = gdf_area_raw[['geometry', 'code', 'naam']]\n",
        "\n",
        "# Adjust CRS\n",
        "gdf_area = gdf_area.to_crs(CRS)"
      ]
    },
    {
      "cell_type": "markdown",
      "id": "147e575d-8575-4d65-9f03-02666abdb294",
      "metadata": {},
      "source": [
        "### Extract sidewalk data in polygon of area"
      ]
    },
    {
      "cell_type": "code",
      "execution_count": 100,
      "id": "96244c21",
      "metadata": {},
      "outputs": [],
      "source": [
        "# Function to get psw data from certain area\n",
        "def get_psw_df_area(area):\n",
        "    polygon = gdf_area[gdf_area['naam'] == area].iloc[0]['geometry']\n",
        "    sw_data_in_area_mask = polygon.contains(p_sw_gdf['geometry'])\n",
        "    p_sw_area_gdf = p_sw_gdf.loc[sw_data_in_area_mask]\n",
        "\n",
        "    return p_sw_area_gdf, polygon"
      ]
    },
    {
      "cell_type": "code",
      "execution_count": 101,
      "id": "58d60e63",
      "metadata": {},
      "outputs": [],
      "source": [
        "# Get PSW gdf for Osdorp-Midden\n",
        "Osdorp_Midden_p_sw_gdf, polygon = get_psw_df_area('Osdorp-Midden')"
      ]
    },
    {
      "cell_type": "code",
      "execution_count": 105,
      "id": "8099bfdc",
      "metadata": {},
      "outputs": [],
      "source": [
        "# Save the polygon as it is necessary in a consecutive notebook \n",
        "polygon_path = \"../data/polygons/Osdorp polygon.csv\"\n",
        "\n",
        "# Transform polygon to gdf\n",
        "polygon_gdf = gpd.GeoDataFrame([{'geometry': polygon}], crs=CRS)\n",
        "\n",
        "# Save gdf as shapely polygon\n",
        "polygon_gdf.to_file(polygon_path)"
      ]
    },
    {
      "cell_type": "markdown",
      "id": "daf09a83",
      "metadata": {},
      "source": [
        "## Clean data"
      ]
    },
    {
      "cell_type": "code",
      "execution_count": 68,
      "id": "7ae6c965",
      "metadata": {},
      "outputs": [],
      "source": [
        "# Function to drop unnecessary rows\n",
        "def drop_rows(gdf):\n",
        "\n",
        "    gdf_dropped = gdf.drop(['heading', 'label_is_temporary','pitch', 'zoom', 'label_id', 'gsv_panorama_id','canvas_x', 'canvas_y', 'canvas_width', 'street_edge_id', 'canvas_height', 'gsv_url', 'label_date', 'label_severity', 'neighborhood', 'label_description', 'user_id'], axis=1)\n",
        "    \n",
        "    return gdf_dropped"
      ]
    },
    {
      "cell_type": "code",
      "execution_count": 70,
      "id": "36c32659",
      "metadata": {},
      "outputs": [],
      "source": [
        "# Function to separate annotations based on label\n",
        "def separate_annotations(gdf):\n",
        "\n",
        "    crosswalks = gdf[gdf['label_type'] == 'Crosswalk']\n",
        "    curbs = gdf[gdf['label_type'] == 'CurbRamp']\n",
        "    missing_curbs = gdf[gdf['label_type'] == 'NoCurbRamp']\n",
        "\n",
        "    return crosswalks, curbs, missing_curbs"
      ]
    },
    {
      "cell_type": "code",
      "execution_count": 71,
      "id": "b05f3905",
      "metadata": {},
      "outputs": [],
      "source": [
        "Osdorp_Midden_p_sw_gdf_dropped = drop_rows(Osdorp_Midden_p_sw_gdf)\n",
        "\n",
        "Osdorp_Midden_CW, Osdorp_Midden_curb, Osdorp_Midden_mCurb = separate_annotations(Osdorp_Midden_p_sw_gdf_dropped)"
      ]
    },
    {
      "cell_type": "markdown",
      "id": "28f59102",
      "metadata": {},
      "source": [
        "### Validation filter\n",
        "We only want annotations that are sufficiently validated. This means we filter out:\n",
        "- Annotations of which the disagree count is higher than the agree count\n",
        "- Annotations of which the disagree count plus the not sure count is higher than the agree count\n",
        "- Annotations that have an agree count of zero"
      ]
    },
    {
      "cell_type": "code",
      "execution_count": 85,
      "id": "2c629bcf",
      "metadata": {
        "gather": {
          "logged": 1716471513923
        }
      },
      "outputs": [],
      "source": [
        "# Function to only keep sufficiently validated rows\n",
        "def validation(gdf):\n",
        "\n",
        "    validated = gdf[(gdf['disagree_count'] < gdf['agree_count']) & \n",
        "                        ((gdf['disagree_count'] + gdf['notsure_count']) < gdf['agree_count'])]\n",
        "\n",
        "    print(\"Removed annotations:\", len(gdf) - len(validated), \"/\", len(gdf))\n",
        "\n",
        "    return validated"
      ]
    },
    {
      "cell_type": "code",
      "execution_count": 91,
      "id": "79407a06",
      "metadata": {},
      "outputs": [
        {
          "name": "stdout",
          "output_type": "stream",
          "text": [
            "Removed annotations: 38 / 316\n",
            "Removed annotations: 486 / 1098\n",
            "Removed annotations: 6 / 27\n"
          ]
        }
      ],
      "source": [
        "Osdorp_Midden_CW_validated = validation(Osdorp_Midden_CW)\n",
        "Osdorp_Midden_curb_validated = validation(Osdorp_Midden_curb)\n",
        "Osdorp_Midden_mCurb_validated = validation(Osdorp_Midden_mCurb)"
      ]
    },
    {
      "cell_type": "markdown",
      "id": "51e12a94",
      "metadata": {},
      "source": [
        "### Removing duplicates\n",
        "The project sidewalk data has duplicate annotations. We filter these out based on their location."
      ]
    },
    {
      "cell_type": "code",
      "execution_count": 87,
      "id": "972b6c8c",
      "metadata": {},
      "outputs": [],
      "source": [
        "# Function to remove duplicates\n",
        "def duplicates(df):\n",
        "    # Sort df by geometry and agree count\n",
        "    df_sorted = df.sort_values(by=['geometry', 'agree_count'], ascending=[True, False])\n",
        "   \n",
        "    # Group by geometry and aggregate the rows\n",
        "    df_aggregated = df_sorted.groupby('geometry').agg({'attribute_id': 'first', \n",
        "                                                    'label_type': 'first',\n",
        "                                                    'osm_street_id' : 'first',\n",
        "                                                    'severity': 'first',\n",
        "                                                    'is_temporary': 'first',\n",
        "                                                    'image_capture_date': 'first',\n",
        "                                                    'agree_count': 'first',\n",
        "                                                    'disagree_count': 'first',\n",
        "                                                    'notsure_count': 'first',\n",
        "                                                    'label_tags':  lambda x: list(x)\n",
        "                                                    }).reset_index()\n",
        "    \n",
        "    print(\"Removed annotations:\", len(df)-len(df_aggregated), \"/\", len(df))\n",
        "    \n",
        "    return df_aggregated"
      ]
    },
    {
      "cell_type": "code",
      "execution_count": 92,
      "id": "e2e877c4",
      "metadata": {},
      "outputs": [
        {
          "name": "stdout",
          "output_type": "stream",
          "text": [
            "Removed annotations: 172 / 278\n",
            "Removed annotations: 180 / 612\n",
            "Removed annotations: 2 / 21\n"
          ]
        }
      ],
      "source": [
        "Osdorp_Midden_CW_validated_no_dupes = duplicates(Osdorp_Midden_CW_validated)\n",
        "Osdorp_Midden_curb_validated_no_dupes = duplicates(Osdorp_Midden_curb_validated)\n",
        "Osdorp_Midden_mCurb_validated_no_dupes = duplicates(Osdorp_Midden_mCurb_validated)"
      ]
    },
    {
      "cell_type": "markdown",
      "id": "31bb1db9",
      "metadata": {},
      "source": [
        "## Save data"
      ]
    },
    {
      "cell_type": "code",
      "execution_count": 94,
      "id": "a76aade9",
      "metadata": {},
      "outputs": [],
      "source": [
        "# Tranform dfs to gdf\n",
        "Osdorp_Midden_CW_validated_no_dupes_gdf = gpd.GeoDataFrame(Osdorp_Midden_CW_validated_no_dupes, geometry='geometry')\n",
        "Osdorp_Midden_curb_validated_no_dupes_gdf = gpd.GeoDataFrame(Osdorp_Midden_curb_validated_no_dupes, geometry='geometry')\n",
        "Osdorp_Midden_mCurb_validated_no_dupes_gdf = gpd.GeoDataFrame(Osdorp_Midden_mCurb_validated_no_dupes, geometry='geometry')"
      ]
    },
    {
      "cell_type": "code",
      "execution_count": 98,
      "id": "03cd9690",
      "metadata": {},
      "outputs": [],
      "source": [
        "# Set paths to save data\n",
        "CW_path = \"../data/PSW gdfs/Osdorp CW PSW\"\n",
        "curb_path = \"../data/PSW gdfs/Osdorp curb PSW\"\n",
        "mCurb_path = \"../data/PSW gdfs/Osdorp missing curb PSW\""
      ]
    },
    {
      "cell_type": "code",
      "execution_count": 133,
      "id": "3a9028ef",
      "metadata": {},
      "outputs": [],
      "source": [
        "# Save data\n",
        "Osdorp_Midden_CW_validated_no_dupes_gdf.to_csv(CW_path)\n",
        "Osdorp_Midden_curb_validated_no_dupes_gdf.to_csv(curb_path)\n",
        "Osdorp_Midden_mCurb_validated_no_dupes_gdf.to_csv(mCurb_path)"
      ]
    }
  ],
  "metadata": {
    "kernel_info": {
      "name": "tile2net"
    },
    "kernelspec": {
      "display_name": "Python tile2net",
      "language": "python",
      "name": "tile2net"
    },
    "language_info": {
      "codemirror_mode": {
        "name": "ipython",
        "version": 3
      },
      "file_extension": ".py",
      "mimetype": "text/x-python",
      "name": "python",
      "nbconvert_exporter": "python",
      "pygments_lexer": "ipython3",
      "version": "3.11.8"
    },
    "microsoft": {
      "host": {
        "AzureML": {
          "notebookHasBeenCompleted": true
        }
      },
      "ms_spell_check": {
        "ms_spell_check_language": "en"
      }
    },
    "nteract": {
      "version": "nteract-front-end@1.0.0"
    }
  },
  "nbformat": 4,
  "nbformat_minor": 5
}
