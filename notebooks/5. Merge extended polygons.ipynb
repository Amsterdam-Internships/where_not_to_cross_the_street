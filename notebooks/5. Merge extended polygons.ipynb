{
 "cells": [
  {
   "cell_type": "code",
   "execution_count": 1,
   "metadata": {},
   "outputs": [],
   "source": [
    "import geopandas as gpd\n",
    "import pandas as pd\n",
    "from shapely.ops import unary_union"
   ]
  },
  {
   "cell_type": "markdown",
   "metadata": {},
   "source": [
    "# Notebook overview\n",
    "\n",
    "In this notebook we merge the filtered crosswalks polygons with their processed extensions. \n",
    "\n",
    "**Input**: \n",
    "- Processed crosswalk polygons as created in notebook 3.\n",
    "- Processed extended polygons as created in notebook 4.\n",
    "\n",
    "**Output**: Shapely file with the final, fully processed crosswalk polygons.\n",
    "\n",
    "**Previous notebook**: 4. Extended polygon filtering."
   ]
  },
  {
   "cell_type": "markdown",
   "metadata": {},
   "source": [
    "# Load data"
   ]
  },
  {
   "cell_type": "code",
   "execution_count": 2,
   "metadata": {},
   "outputs": [],
   "source": [
    "# Load polygons without extension\n",
    "CW_polygons = gpd.read_file(\"../data/output/filtered polygons.shp\")"
   ]
  },
  {
   "cell_type": "code",
   "execution_count": 3,
   "metadata": {},
   "outputs": [],
   "source": [
    "# Load processed extensions\n",
    "extension_polygons = gpd.read_file(\"../data/output/filtered extended polygons.shp\")"
   ]
  },
  {
   "cell_type": "code",
   "execution_count": 4,
   "metadata": {},
   "outputs": [],
   "source": [
    "# Function to match the extended polygons with the original crosswalk polygon they stem from\n",
    "def match_extension(extension_polygons, CW_polygons): \n",
    "    matches = []\n",
    "\n",
    "    # Loop over extended polygons\n",
    "    for index, row in extension_polygons.iterrows():\n",
    "        match = []\n",
    "\n",
    "        # Loop over original crosswalk polygons\n",
    "        for index2, row2 in CW_polygons.iterrows():\n",
    "\n",
    "            # Check if the polygons intersect\n",
    "            if row['geometry'].intersects(row2['geometry']):\n",
    "                match.append(row2['geometry'])\n",
    "        matches.append([row['geometry'], match])\n",
    "\n",
    "    return matches"
   ]
  },
  {
   "cell_type": "code",
   "execution_count": 5,
   "metadata": {},
   "outputs": [],
   "source": [
    "matches = match_extension(extension_polygons, CW_polygons)"
   ]
  },
  {
   "cell_type": "code",
   "execution_count": 6,
   "metadata": {},
   "outputs": [],
   "source": [
    "# Function to merge polygons\n",
    "def merge_polygons(matches): \n",
    "    final_pols = []\n",
    "\n",
    "    # Loop over list with matches\n",
    "    for match in matches:\n",
    "        final = match[0]\n",
    "\n",
    "        # If there is more than one item, merge them\n",
    "        if len(match[1]) > 0:\n",
    "            for m in match[1]:\n",
    "                final = final.union(m)\n",
    "                \n",
    "        final_pols.append(final)\n",
    "    return final_pols"
   ]
  },
  {
   "cell_type": "code",
   "execution_count": 7,
   "metadata": {},
   "outputs": [],
   "source": [
    "final_pols = merge_polygons(matches)"
   ]
  },
  {
   "cell_type": "code",
   "execution_count": 8,
   "metadata": {},
   "outputs": [],
   "source": [
    "# Create GeoDataFrame of final polygons\n",
    "df = pd.DataFrame({\"geometry\": final_pols})\n",
    "polygons_gdf = gpd.GeoDataFrame(df, crs='epsg:28992', geometry='geometry')"
   ]
  },
  {
   "cell_type": "code",
   "execution_count": 9,
   "metadata": {},
   "outputs": [],
   "source": [
    "# Function to merge polygons that overlap \n",
    "# This is necessary as due to how the processing works, we sometimes end up with multiple polygons for the same crosswalk\n",
    "def merge_intersecting_polygons(gdf):\n",
    "    merged_polygons = []\n",
    "    seen = set()\n",
    "\n",
    "    for idx, row in gdf.iterrows():\n",
    "        if idx not in seen:\n",
    "            intersecting = gdf[gdf.geometry.intersects(row.geometry)]\n",
    "            merged_polygon = unary_union(intersecting.geometry)\n",
    "            merged_polygons.append(merged_polygon)\n",
    "            seen.update(intersecting.index)\n",
    "\n",
    "    return merged_polygons"
   ]
  },
  {
   "cell_type": "code",
   "execution_count": 10,
   "metadata": {},
   "outputs": [],
   "source": [
    "# Merge intersecting polygons\n",
    "merged_polygons = merge_intersecting_polygons(polygons_gdf)\n",
    "\n",
    "# Convert the merged polygons list back into a GeoDataFrame\n",
    "polygons_gdf = gpd.GeoDataFrame(geometry=merged_polygons, crs=polygons_gdf.crs)"
   ]
  },
  {
   "cell_type": "code",
   "execution_count": 11,
   "metadata": {},
   "outputs": [],
   "source": [
    "# Save final polygons\n",
    "path = \"../data/output/final merged polygons.shp\"\n",
    "polygons_gdf.to_file(path)"
   ]
  }
 ],
 "metadata": {
  "kernelspec": {
   "display_name": "Python 3 (ipykernel)",
   "language": "python",
   "name": "python3"
  },
  "language_info": {
   "codemirror_mode": {
    "name": "ipython",
    "version": 3
   },
   "file_extension": ".py",
   "mimetype": "text/x-python",
   "name": "python",
   "nbconvert_exporter": "python",
   "pygments_lexer": "ipython3",
   "version": "3.11.8"
  }
 },
 "nbformat": 4,
 "nbformat_minor": 2
}
