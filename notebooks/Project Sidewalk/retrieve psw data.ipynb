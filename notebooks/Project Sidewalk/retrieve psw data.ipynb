{
  "cells": [
    {
      "cell_type": "markdown",
      "id": "7c5326ee",
      "metadata": {},
      "source": [
        "# Project Sidewalk - get crossing features"
      ]
    },
    {
      "cell_type": "code",
      "execution_count": 2,
      "id": "78547941",
      "metadata": {
        "gather": {
          "logged": 1711541275149
        }
      },
      "outputs": [],
      "source": [
        "import json\n",
        "import requests\n",
        "import geopandas as gpd\n",
        "import folium\n",
        "import plot_utils"
      ]
    },
    {
      "cell_type": "markdown",
      "id": "39b45d8d",
      "metadata": {},
      "source": [
        "### Settings"
      ]
    },
    {
      "cell_type": "code",
      "execution_count": 3,
      "id": "69b1645b",
      "metadata": {
        "gather": {
          "logged": 1711541553375
        }
      },
      "outputs": [],
      "source": [
        "CRS = 'epsg:28992'\n",
        "CRS_map = 'epsg:4326'"
      ]
    },
    {
      "cell_type": "markdown",
      "id": "6e81e822",
      "metadata": {},
      "source": [
        "## Get project sidewalk data"
      ]
    },
    {
      "cell_type": "code",
      "execution_count": 4,
      "id": "782c3134",
      "metadata": {
        "gather": {
          "logged": 1706697783904
        }
      },
      "outputs": [],
      "source": [
        "# Get correct URL\n",
        "base_url = \"https://sidewalk-amsterdam.cs.washington.edu/v2/access/attributesWithLabels?lat1={}&lng1={}&lat2={}&lng2={}\" \n",
        "amsterdam_bbox_coords = (52.265, 4.73, 52.435, 5.07)\n",
        "url = base_url.format(*amsterdam_bbox_coords)"
      ]
    },
    {
      "cell_type": "code",
      "execution_count": 5,
      "id": "28bf7d4b",
      "metadata": {
        "gather": {
          "logged": 1706697786918
        }
      },
      "outputs": [],
      "source": [
        "# Retrieve data\n",
        "project_sidewalk_labels = requests.get(url.format(*amsterdam_bbox_coords)).json()"
      ]
    },
    {
      "cell_type": "markdown",
      "id": "7936041d",
      "metadata": {},
      "source": [
        "### Create sidewalk data geodataframe"
      ]
    },
    {
      "cell_type": "code",
      "execution_count": 6,
      "id": "2fd2398e",
      "metadata": {
        "gather": {
          "logged": 1706697787343
        }
      },
      "outputs": [
        {
          "data": {
            "text/html": [
              "<div>\n",
              "<style scoped>\n",
              "    .dataframe tbody tr th:only-of-type {\n",
              "        vertical-align: middle;\n",
              "    }\n",
              "\n",
              "    .dataframe tbody tr th {\n",
              "        vertical-align: top;\n",
              "    }\n",
              "\n",
              "    .dataframe thead th {\n",
              "        text-align: right;\n",
              "    }\n",
              "</style>\n",
              "<table border=\"1\" class=\"dataframe\">\n",
              "  <thead>\n",
              "    <tr style=\"text-align: right;\">\n",
              "      <th></th>\n",
              "      <th>geometry</th>\n",
              "      <th>attribute_id</th>\n",
              "      <th>label_type</th>\n",
              "      <th>street_edge_id</th>\n",
              "      <th>osm_street_id</th>\n",
              "      <th>neighborhood</th>\n",
              "      <th>severity</th>\n",
              "      <th>is_temporary</th>\n",
              "      <th>label_id</th>\n",
              "      <th>gsv_panorama_id</th>\n",
              "      <th>...</th>\n",
              "      <th>image_capture_date</th>\n",
              "      <th>label_date</th>\n",
              "      <th>label_severity</th>\n",
              "      <th>label_is_temporary</th>\n",
              "      <th>agree_count</th>\n",
              "      <th>disagree_count</th>\n",
              "      <th>notsure_count</th>\n",
              "      <th>label_tags</th>\n",
              "      <th>label_description</th>\n",
              "      <th>user_id</th>\n",
              "    </tr>\n",
              "  </thead>\n",
              "  <tbody>\n",
              "    <tr>\n",
              "      <th>0</th>\n",
              "      <td>POINT (126149.896 481976.234)</td>\n",
              "      <td>416332</td>\n",
              "      <td>CurbRamp</td>\n",
              "      <td>16735</td>\n",
              "      <td>13886618</td>\n",
              "      <td>E-buurt</td>\n",
              "      <td>1.0</td>\n",
              "      <td>False</td>\n",
              "      <td>31012</td>\n",
              "      <td>hwnYIzNNM0YvnFoE6OOLIg</td>\n",
              "      <td>...</td>\n",
              "      <td>2022-08</td>\n",
              "      <td>2023-04-25 11:30:47.802</td>\n",
              "      <td>1.0</td>\n",
              "      <td>False</td>\n",
              "      <td>0</td>\n",
              "      <td>0</td>\n",
              "      <td>0</td>\n",
              "      <td>[]</td>\n",
              "      <td>None</td>\n",
              "      <td>12f7f7b3-ed78-44e9-b92b-23aa57c41772</td>\n",
              "    </tr>\n",
              "    <tr>\n",
              "      <th>1</th>\n",
              "      <td>POINT (126149.896 481976.234)</td>\n",
              "      <td>416332</td>\n",
              "      <td>CurbRamp</td>\n",
              "      <td>16735</td>\n",
              "      <td>13886618</td>\n",
              "      <td>E-buurt</td>\n",
              "      <td>1.0</td>\n",
              "      <td>False</td>\n",
              "      <td>31009</td>\n",
              "      <td>hwnYIzNNM0YvnFoE6OOLIg</td>\n",
              "      <td>...</td>\n",
              "      <td>2022-08</td>\n",
              "      <td>2023-04-25 11:30:09.611</td>\n",
              "      <td>1.0</td>\n",
              "      <td>False</td>\n",
              "      <td>0</td>\n",
              "      <td>0</td>\n",
              "      <td>0</td>\n",
              "      <td>[]</td>\n",
              "      <td>None</td>\n",
              "      <td>12f7f7b3-ed78-44e9-b92b-23aa57c41772</td>\n",
              "    </tr>\n",
              "    <tr>\n",
              "      <th>2</th>\n",
              "      <td>POINT (126153.214 481982.157)</td>\n",
              "      <td>416328</td>\n",
              "      <td>CurbRamp</td>\n",
              "      <td>16725</td>\n",
              "      <td>13886618</td>\n",
              "      <td>E-buurt</td>\n",
              "      <td>1.0</td>\n",
              "      <td>False</td>\n",
              "      <td>31010</td>\n",
              "      <td>hwnYIzNNM0YvnFoE6OOLIg</td>\n",
              "      <td>...</td>\n",
              "      <td>2022-08</td>\n",
              "      <td>2023-04-25 11:30:27.039</td>\n",
              "      <td>1.0</td>\n",
              "      <td>False</td>\n",
              "      <td>0</td>\n",
              "      <td>0</td>\n",
              "      <td>0</td>\n",
              "      <td>[]</td>\n",
              "      <td>None</td>\n",
              "      <td>12f7f7b3-ed78-44e9-b92b-23aa57c41772</td>\n",
              "    </tr>\n",
              "    <tr>\n",
              "      <th>3</th>\n",
              "      <td>POINT (126158.336 481974.063)</td>\n",
              "      <td>416330</td>\n",
              "      <td>CurbRamp</td>\n",
              "      <td>16725</td>\n",
              "      <td>13886618</td>\n",
              "      <td>E-buurt</td>\n",
              "      <td>1.0</td>\n",
              "      <td>False</td>\n",
              "      <td>31013</td>\n",
              "      <td>hwnYIzNNM0YvnFoE6OOLIg</td>\n",
              "      <td>...</td>\n",
              "      <td>2022-08</td>\n",
              "      <td>2023-04-25 11:31:00.532</td>\n",
              "      <td>1.0</td>\n",
              "      <td>False</td>\n",
              "      <td>0</td>\n",
              "      <td>0</td>\n",
              "      <td>0</td>\n",
              "      <td>[]</td>\n",
              "      <td>None</td>\n",
              "      <td>12f7f7b3-ed78-44e9-b92b-23aa57c41772</td>\n",
              "    </tr>\n",
              "    <tr>\n",
              "      <th>4</th>\n",
              "      <td>POINT (126166.297 481979.109)</td>\n",
              "      <td>416327</td>\n",
              "      <td>CurbRamp</td>\n",
              "      <td>16727</td>\n",
              "      <td>13886618</td>\n",
              "      <td>E-buurt</td>\n",
              "      <td>2.0</td>\n",
              "      <td>False</td>\n",
              "      <td>31014</td>\n",
              "      <td>G7N7BtF_A-g07Cn2G77Zeg</td>\n",
              "      <td>...</td>\n",
              "      <td>2022-08</td>\n",
              "      <td>2023-04-25 11:31:11.403</td>\n",
              "      <td>1.0</td>\n",
              "      <td>False</td>\n",
              "      <td>0</td>\n",
              "      <td>0</td>\n",
              "      <td>0</td>\n",
              "      <td>[]</td>\n",
              "      <td>None</td>\n",
              "      <td>12f7f7b3-ed78-44e9-b92b-23aa57c41772</td>\n",
              "    </tr>\n",
              "  </tbody>\n",
              "</table>\n",
              "<p>5 rows × 28 columns</p>\n",
              "</div>"
            ],
            "text/plain": [
              "                        geometry  attribute_id label_type  street_edge_id  \\\n",
              "0  POINT (126149.896 481976.234)        416332   CurbRamp           16735   \n",
              "1  POINT (126149.896 481976.234)        416332   CurbRamp           16735   \n",
              "2  POINT (126153.214 481982.157)        416328   CurbRamp           16725   \n",
              "3  POINT (126158.336 481974.063)        416330   CurbRamp           16725   \n",
              "4  POINT (126166.297 481979.109)        416327   CurbRamp           16727   \n",
              "\n",
              "   osm_street_id neighborhood  severity  is_temporary  label_id  \\\n",
              "0       13886618      E-buurt       1.0         False     31012   \n",
              "1       13886618      E-buurt       1.0         False     31009   \n",
              "2       13886618      E-buurt       1.0         False     31010   \n",
              "3       13886618      E-buurt       1.0         False     31013   \n",
              "4       13886618      E-buurt       2.0         False     31014   \n",
              "\n",
              "          gsv_panorama_id  ...  image_capture_date               label_date  \\\n",
              "0  hwnYIzNNM0YvnFoE6OOLIg  ...             2022-08  2023-04-25 11:30:47.802   \n",
              "1  hwnYIzNNM0YvnFoE6OOLIg  ...             2022-08  2023-04-25 11:30:09.611   \n",
              "2  hwnYIzNNM0YvnFoE6OOLIg  ...             2022-08  2023-04-25 11:30:27.039   \n",
              "3  hwnYIzNNM0YvnFoE6OOLIg  ...             2022-08  2023-04-25 11:31:00.532   \n",
              "4  G7N7BtF_A-g07Cn2G77Zeg  ...             2022-08  2023-04-25 11:31:11.403   \n",
              "\n",
              "   label_severity  label_is_temporary  agree_count  disagree_count  \\\n",
              "0             1.0               False            0               0   \n",
              "1             1.0               False            0               0   \n",
              "2             1.0               False            0               0   \n",
              "3             1.0               False            0               0   \n",
              "4             1.0               False            0               0   \n",
              "\n",
              "   notsure_count label_tags label_description  \\\n",
              "0              0         []              None   \n",
              "1              0         []              None   \n",
              "2              0         []              None   \n",
              "3              0         []              None   \n",
              "4              0         []              None   \n",
              "\n",
              "                                user_id  \n",
              "0  12f7f7b3-ed78-44e9-b92b-23aa57c41772  \n",
              "1  12f7f7b3-ed78-44e9-b92b-23aa57c41772  \n",
              "2  12f7f7b3-ed78-44e9-b92b-23aa57c41772  \n",
              "3  12f7f7b3-ed78-44e9-b92b-23aa57c41772  \n",
              "4  12f7f7b3-ed78-44e9-b92b-23aa57c41772  \n",
              "\n",
              "[5 rows x 28 columns]"
            ]
          },
          "execution_count": 6,
          "metadata": {},
          "output_type": "execute_result"
        }
      ],
      "source": [
        "p_sw_gdf = gpd.GeoDataFrame.from_features(project_sidewalk_labels['features'], crs=CRS_map)\n",
        "p_sw_gdf = p_sw_gdf.to_crs(CRS)\n",
        "p_sw_gdf.head()"
      ]
    },
    {
      "cell_type": "code",
      "execution_count": 7,
      "id": "86e8506f",
      "metadata": {},
      "outputs": [],
      "source": [
        "# p_sw_gdf.to_csv(\"/home/azureuser/cloudfiles/code/Users/l.vanoorschot/Project sidewalk/saved dataframes/psw Amsterdam df\", index=False)"
      ]
    },
    {
      "cell_type": "markdown",
      "id": "da95144e-f6b5-4f06-8904-2c480e47e075",
      "metadata": {},
      "source": [
        "### Get mask of area"
      ]
    },
    {
      "cell_type": "code",
      "execution_count": 8,
      "id": "bd21297c-34ed-4968-934f-bb69fab0a972",
      "metadata": {
        "gather": {
          "logged": 1706697788165
        },
        "jupyter": {
          "outputs_hidden": false,
          "source_hidden": false
        },
        "nteract": {
          "transient": {
            "deleting": false
          }
        }
      },
      "outputs": [
        {
          "data": {
            "text/html": [
              "<div>\n",
              "<style scoped>\n",
              "    .dataframe tbody tr th:only-of-type {\n",
              "        vertical-align: middle;\n",
              "    }\n",
              "\n",
              "    .dataframe tbody tr th {\n",
              "        vertical-align: top;\n",
              "    }\n",
              "\n",
              "    .dataframe thead th {\n",
              "        text-align: right;\n",
              "    }\n",
              "</style>\n",
              "<table border=\"1\" class=\"dataframe\">\n",
              "  <thead>\n",
              "    <tr style=\"text-align: right;\">\n",
              "      <th></th>\n",
              "      <th>geometry</th>\n",
              "      <th>code</th>\n",
              "      <th>naam</th>\n",
              "    </tr>\n",
              "  </thead>\n",
              "  <tbody>\n",
              "    <tr>\n",
              "      <th>0</th>\n",
              "      <td>POLYGON ((129824.496 481758.331, 129749.392 48...</td>\n",
              "      <td>SA</td>\n",
              "      <td>Driemond</td>\n",
              "    </tr>\n",
              "    <tr>\n",
              "      <th>1</th>\n",
              "      <td>POLYGON ((128721.759 480387.302, 128705.327 48...</td>\n",
              "      <td>TK</td>\n",
              "      <td>Nellestein</td>\n",
              "    </tr>\n",
              "  </tbody>\n",
              "</table>\n",
              "</div>"
            ],
            "text/plain": [
              "                                            geometry code        naam\n",
              "0  POLYGON ((129824.496 481758.331, 129749.392 48...   SA    Driemond\n",
              "1  POLYGON ((128721.759 480387.302, 128705.327 48...   TK  Nellestein"
            ]
          },
          "execution_count": 8,
          "metadata": {},
          "output_type": "execute_result"
        }
      ],
      "source": [
        "# Select area granularity (buurten/wijken/ggwgebieden/stadsdelen)\n",
        "area_choice = 'wijken'\n",
        "\n",
        "# Get area data\n",
        "area_url = \"https://api.data.amsterdam.nl/v1/gebieden/\" + area_choice + \"/?_format=geojson\" \n",
        "gdf_area_raw = gpd.read_file(area_url)\n",
        "\n",
        "# Select columns of geodataframe\n",
        "gdf_area = gdf_area_raw[['geometry', 'code', 'naam']]\n",
        "\n",
        "# Adjust CRS\n",
        "gdf_area = gdf_area.to_crs(CRS)\n",
        "gdf_area.head(2)"
      ]
    },
    {
      "cell_type": "markdown",
      "id": "147e575d-8575-4d65-9f03-02666abdb294",
      "metadata": {},
      "source": [
        "### Extract sidewalk data in polygon of area"
      ]
    },
    {
      "cell_type": "code",
      "execution_count": 9,
      "id": "96244c21",
      "metadata": {},
      "outputs": [],
      "source": [
        "# Function to get psw data from certain wijk\n",
        "\n",
        "def get_psw_df(wijk):\n",
        "    polygon = gdf_area[gdf_area['naam'] == wijk].iloc[0]['geometry']\n",
        "    sw_data_in_area_mask = polygon.contains(p_sw_gdf['geometry'])\n",
        "    p_sw_area_gdf = p_sw_gdf.loc[sw_data_in_area_mask]\n",
        "\n",
        "    return p_sw_area_gdf\n",
        "\n"
      ]
    },
    {
      "cell_type": "code",
      "execution_count": 10,
      "id": "ca0932da",
      "metadata": {},
      "outputs": [],
      "source": [
        "Osdorp_df = get_psw_df(\"Osdorp-Midden\")\n",
        "Venserpolder_df = get_psw_df(\"Venserpolder\")"
      ]
    },
    {
      "cell_type": "code",
      "execution_count": 11,
      "id": "e4fc9b0e",
      "metadata": {},
      "outputs": [],
      "source": [
        "Osdorp_df.to_csv(\"../../data/raw PSW df Osdorp-Midden\", index=False)"
      ]
    },
    {
      "cell_type": "markdown",
      "id": "df1c3a52",
      "metadata": {},
      "source": [
        "### Inspect data"
      ]
    },
    {
      "cell_type": "code",
      "execution_count": null,
      "id": "69dc88ba",
      "metadata": {
        "gather": {
          "logged": 1706697845915
        }
      },
      "outputs": [],
      "source": [
        "# # set True for satellite background, False for regular background\n",
        "# satellite = True\n",
        "\n",
        "# # Set center of map\n",
        "# area_coords = [52.35708498470423, 4.79509846197741]\n",
        "\n",
        "# # Create Folium map\n",
        "# map = folium.Map(\n",
        "#     location=area_coords, \n",
        "#     tiles=plot_utils.generate_map_params(satellite=satellite),\n",
        "#     min_zoom=10, max_zoom=25, zoom_start=15,\n",
        "#     zoom_control=True, control_scale=True, control=False\n",
        "#     )\n",
        "\n",
        "# # Add features\n",
        "# feature_names = p_sw_area_gdf.columns.tolist()\n",
        "# feature_names.remove('geometry')\n",
        "# tooltip = plot_utils.gen_tooltip(feature_names, feature_names)\n",
        "# folium.GeoJson(p_sw_area_gdf, tooltip=tooltip, style_function=lambda x: {\"color\": \"orange\", \"weight\": 10}).add_to(map)\n",
        "\n",
        "# map"
      ]
    }
  ],
  "metadata": {
    "kernel_info": {
      "name": "python38-azureml"
    },
    "kernelspec": {
      "display_name": "Python 3.8 - AzureML",
      "language": "python",
      "name": "python38-azureml"
    },
    "language_info": {
      "codemirror_mode": {
        "name": "ipython",
        "version": 3
      },
      "file_extension": ".py",
      "mimetype": "text/x-python",
      "name": "python",
      "nbconvert_exporter": "python",
      "pygments_lexer": "ipython3",
      "version": "3.8.5"
    },
    "microsoft": {
      "host": {
        "AzureML": {
          "notebookHasBeenCompleted": true
        }
      },
      "ms_spell_check": {
        "ms_spell_check_language": "en"
      }
    },
    "nteract": {
      "version": "nteract-front-end@1.0.0"
    }
  },
  "nbformat": 4,
  "nbformat_minor": 5
}
