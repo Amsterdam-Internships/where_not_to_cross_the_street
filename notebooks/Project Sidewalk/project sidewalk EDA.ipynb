{
  "cells": [
    {
      "cell_type": "code",
      "execution_count": 16,
      "metadata": {
        "gather": {
          "logged": 1710838705433
        },
        "is_executing": true
      },
      "outputs": [],
      "source": [
        "import pandas as pd\n",
        "import matplotlib.pyplot as plt\n",
        "import numpy as np\n",
        "import seaborn as sns"
      ]
    },
    {
      "cell_type": "markdown",
      "metadata": {},
      "source": [
        "# EDA"
      ]
    },
    {
      "cell_type": "markdown",
      "metadata": {},
      "source": [
        "Student: Leah van Oorschot - 12238848\n",
        "\n",
        "\n",
        "UvA supervisor: Dimitris Michailidis\n",
        "\n",
        "\n",
        "City of Amsterdam supervisor: Shayla Jansen"
      ]
    },
    {
      "cell_type": "markdown",
      "metadata": {},
      "source": [
        "## Project sidewalk "
      ]
    },
    {
      "cell_type": "markdown",
      "metadata": {},
      "source": [
        "This dataset contains accessibility features of pedestrian infrastructure in Amsterdam. The data is collected through Project Sidewalk which is a web-based tool that allows anyone with a web browser and internet connection to contribute sidewalk accessibility information virtually. \n",
        "\n",
        "The data is manually labelled through an interface. Users traverse cities virutally using Google Street View panoramas. They are prompted to find and label accessibility features and problems such as curb ramps, missing curb ramps, obstacles on paths, surface problems, missing sidewalks, crosswalks, and pedestrian signals. For this research curb ramps, missing curb ramps, and crosswalks are relevant. This data exploration will thus focus on those features.\n",
        "\n",
        "This data will be the core of the validation of this research project that aims to develop a method to automatically identify crosswalks and curb ramps in Amsterdam."
      ]
    },
    {
      "cell_type": "markdown",
      "metadata": {},
      "source": [
        "### Load data"
      ]
    },
    {
      "cell_type": "code",
      "execution_count": 17,
      "metadata": {
        "gather": {
          "logged": 1710838710352
        }
      },
      "outputs": [],
      "source": [
        "# Load data\n",
        "psw_Amsterdam = pd.read_csv('../../data/raw PSW df Amsterdam')"
      ]
    },
    {
      "cell_type": "markdown",
      "metadata": {},
      "source": [
        "To get an idea of the data, we will plot the first few datapoints."
      ]
    },
    {
      "cell_type": "code",
      "execution_count": 18,
      "metadata": {
        "gather": {
          "logged": 1710838714511
        }
      },
      "outputs": [
        {
          "data": {
            "text/html": [
              "<div>\n",
              "<style scoped>\n",
              "    .dataframe tbody tr th:only-of-type {\n",
              "        vertical-align: middle;\n",
              "    }\n",
              "\n",
              "    .dataframe tbody tr th {\n",
              "        vertical-align: top;\n",
              "    }\n",
              "\n",
              "    .dataframe thead th {\n",
              "        text-align: right;\n",
              "    }\n",
              "</style>\n",
              "<table border=\"1\" class=\"dataframe\">\n",
              "  <thead>\n",
              "    <tr style=\"text-align: right;\">\n",
              "      <th></th>\n",
              "      <th>geometry</th>\n",
              "      <th>attribute_id</th>\n",
              "      <th>label_type</th>\n",
              "      <th>street_edge_id</th>\n",
              "      <th>osm_street_id</th>\n",
              "      <th>neighborhood</th>\n",
              "      <th>severity</th>\n",
              "      <th>is_temporary</th>\n",
              "      <th>label_id</th>\n",
              "      <th>gsv_panorama_id</th>\n",
              "      <th>...</th>\n",
              "      <th>image_capture_date</th>\n",
              "      <th>label_date</th>\n",
              "      <th>label_severity</th>\n",
              "      <th>label_is_temporary</th>\n",
              "      <th>agree_count</th>\n",
              "      <th>disagree_count</th>\n",
              "      <th>notsure_count</th>\n",
              "      <th>label_tags</th>\n",
              "      <th>label_description</th>\n",
              "      <th>user_id</th>\n",
              "    </tr>\n",
              "  </thead>\n",
              "  <tbody>\n",
              "    <tr>\n",
              "      <th>0</th>\n",
              "      <td>POINT (126149.89606146968 481976.2340622852)</td>\n",
              "      <td>407162</td>\n",
              "      <td>CurbRamp</td>\n",
              "      <td>16735</td>\n",
              "      <td>13886618</td>\n",
              "      <td>E-buurt</td>\n",
              "      <td>1.0</td>\n",
              "      <td>False</td>\n",
              "      <td>31012</td>\n",
              "      <td>hwnYIzNNM0YvnFoE6OOLIg</td>\n",
              "      <td>...</td>\n",
              "      <td>2022-08</td>\n",
              "      <td>2023-04-25 11:30:47.802</td>\n",
              "      <td>1.0</td>\n",
              "      <td>False</td>\n",
              "      <td>0</td>\n",
              "      <td>0</td>\n",
              "      <td>0</td>\n",
              "      <td>[]</td>\n",
              "      <td>NaN</td>\n",
              "      <td>12f7f7b3-ed78-44e9-b92b-23aa57c41772</td>\n",
              "    </tr>\n",
              "    <tr>\n",
              "      <th>1</th>\n",
              "      <td>POINT (126149.89606146968 481976.2340622852)</td>\n",
              "      <td>407162</td>\n",
              "      <td>CurbRamp</td>\n",
              "      <td>16735</td>\n",
              "      <td>13886618</td>\n",
              "      <td>E-buurt</td>\n",
              "      <td>1.0</td>\n",
              "      <td>False</td>\n",
              "      <td>31009</td>\n",
              "      <td>hwnYIzNNM0YvnFoE6OOLIg</td>\n",
              "      <td>...</td>\n",
              "      <td>2022-08</td>\n",
              "      <td>2023-04-25 11:30:09.611</td>\n",
              "      <td>1.0</td>\n",
              "      <td>False</td>\n",
              "      <td>0</td>\n",
              "      <td>0</td>\n",
              "      <td>0</td>\n",
              "      <td>[]</td>\n",
              "      <td>NaN</td>\n",
              "      <td>12f7f7b3-ed78-44e9-b92b-23aa57c41772</td>\n",
              "    </tr>\n",
              "    <tr>\n",
              "      <th>2</th>\n",
              "      <td>POINT (126153.2139837821 481982.15695664124)</td>\n",
              "      <td>407172</td>\n",
              "      <td>CurbRamp</td>\n",
              "      <td>16725</td>\n",
              "      <td>13886618</td>\n",
              "      <td>E-buurt</td>\n",
              "      <td>1.0</td>\n",
              "      <td>False</td>\n",
              "      <td>31010</td>\n",
              "      <td>hwnYIzNNM0YvnFoE6OOLIg</td>\n",
              "      <td>...</td>\n",
              "      <td>2022-08</td>\n",
              "      <td>2023-04-25 11:30:27.039</td>\n",
              "      <td>1.0</td>\n",
              "      <td>False</td>\n",
              "      <td>0</td>\n",
              "      <td>0</td>\n",
              "      <td>0</td>\n",
              "      <td>[]</td>\n",
              "      <td>NaN</td>\n",
              "      <td>12f7f7b3-ed78-44e9-b92b-23aa57c41772</td>\n",
              "    </tr>\n",
              "    <tr>\n",
              "      <th>3</th>\n",
              "      <td>POINT (126158.33558706795 481974.0625710582)</td>\n",
              "      <td>407169</td>\n",
              "      <td>CurbRamp</td>\n",
              "      <td>16725</td>\n",
              "      <td>13886618</td>\n",
              "      <td>E-buurt</td>\n",
              "      <td>1.0</td>\n",
              "      <td>False</td>\n",
              "      <td>31013</td>\n",
              "      <td>hwnYIzNNM0YvnFoE6OOLIg</td>\n",
              "      <td>...</td>\n",
              "      <td>2022-08</td>\n",
              "      <td>2023-04-25 11:31:00.532</td>\n",
              "      <td>1.0</td>\n",
              "      <td>False</td>\n",
              "      <td>0</td>\n",
              "      <td>0</td>\n",
              "      <td>0</td>\n",
              "      <td>[]</td>\n",
              "      <td>NaN</td>\n",
              "      <td>12f7f7b3-ed78-44e9-b92b-23aa57c41772</td>\n",
              "    </tr>\n",
              "    <tr>\n",
              "      <th>4</th>\n",
              "      <td>POINT (126166.29709508501 481979.1094846654)</td>\n",
              "      <td>407171</td>\n",
              "      <td>CurbRamp</td>\n",
              "      <td>16727</td>\n",
              "      <td>13886618</td>\n",
              "      <td>E-buurt</td>\n",
              "      <td>2.0</td>\n",
              "      <td>False</td>\n",
              "      <td>31014</td>\n",
              "      <td>G7N7BtF_A-g07Cn2G77Zeg</td>\n",
              "      <td>...</td>\n",
              "      <td>2022-08</td>\n",
              "      <td>2023-04-25 11:31:11.403</td>\n",
              "      <td>1.0</td>\n",
              "      <td>False</td>\n",
              "      <td>0</td>\n",
              "      <td>0</td>\n",
              "      <td>0</td>\n",
              "      <td>[]</td>\n",
              "      <td>NaN</td>\n",
              "      <td>12f7f7b3-ed78-44e9-b92b-23aa57c41772</td>\n",
              "    </tr>\n",
              "  </tbody>\n",
              "</table>\n",
              "<p>5 rows × 28 columns</p>\n",
              "</div>"
            ],
            "text/plain": [
              "                                       geometry  attribute_id label_type  \\\n",
              "0  POINT (126149.89606146968 481976.2340622852)        407162   CurbRamp   \n",
              "1  POINT (126149.89606146968 481976.2340622852)        407162   CurbRamp   \n",
              "2  POINT (126153.2139837821 481982.15695664124)        407172   CurbRamp   \n",
              "3  POINT (126158.33558706795 481974.0625710582)        407169   CurbRamp   \n",
              "4  POINT (126166.29709508501 481979.1094846654)        407171   CurbRamp   \n",
              "\n",
              "   street_edge_id  osm_street_id neighborhood  severity  is_temporary  \\\n",
              "0           16735       13886618      E-buurt       1.0         False   \n",
              "1           16735       13886618      E-buurt       1.0         False   \n",
              "2           16725       13886618      E-buurt       1.0         False   \n",
              "3           16725       13886618      E-buurt       1.0         False   \n",
              "4           16727       13886618      E-buurt       2.0         False   \n",
              "\n",
              "   label_id         gsv_panorama_id  ...  image_capture_date  \\\n",
              "0     31012  hwnYIzNNM0YvnFoE6OOLIg  ...             2022-08   \n",
              "1     31009  hwnYIzNNM0YvnFoE6OOLIg  ...             2022-08   \n",
              "2     31010  hwnYIzNNM0YvnFoE6OOLIg  ...             2022-08   \n",
              "3     31013  hwnYIzNNM0YvnFoE6OOLIg  ...             2022-08   \n",
              "4     31014  G7N7BtF_A-g07Cn2G77Zeg  ...             2022-08   \n",
              "\n",
              "                label_date  label_severity  label_is_temporary  agree_count  \\\n",
              "0  2023-04-25 11:30:47.802             1.0               False            0   \n",
              "1  2023-04-25 11:30:09.611             1.0               False            0   \n",
              "2  2023-04-25 11:30:27.039             1.0               False            0   \n",
              "3  2023-04-25 11:31:00.532             1.0               False            0   \n",
              "4  2023-04-25 11:31:11.403             1.0               False            0   \n",
              "\n",
              "   disagree_count  notsure_count label_tags label_description  \\\n",
              "0               0              0         []               NaN   \n",
              "1               0              0         []               NaN   \n",
              "2               0              0         []               NaN   \n",
              "3               0              0         []               NaN   \n",
              "4               0              0         []               NaN   \n",
              "\n",
              "                                user_id  \n",
              "0  12f7f7b3-ed78-44e9-b92b-23aa57c41772  \n",
              "1  12f7f7b3-ed78-44e9-b92b-23aa57c41772  \n",
              "2  12f7f7b3-ed78-44e9-b92b-23aa57c41772  \n",
              "3  12f7f7b3-ed78-44e9-b92b-23aa57c41772  \n",
              "4  12f7f7b3-ed78-44e9-b92b-23aa57c41772  \n",
              "\n",
              "[5 rows x 28 columns]"
            ]
          },
          "execution_count": 18,
          "metadata": {},
          "output_type": "execute_result"
        }
      ],
      "source": [
        "psw_Amsterdam.head()"
      ]
    },
    {
      "cell_type": "markdown",
      "metadata": {},
      "source": [
        "### Select relevant rows\n",
        "\n",
        "For this research only curb ramps, missing curb ramps, and crosswalks are relevant. We will thus filter for those accessibility features and save them in separate dataframes. The accessibility feature is described in the 'label_type' column so we will filter using that column.\n"
      ]
    },
    {
      "cell_type": "code",
      "execution_count": 19,
      "metadata": {
        "gather": {
          "logged": 1710838719401
        }
      },
      "outputs": [
        {
          "name": "stdout",
          "output_type": "stream",
          "text": [
            "Crosswalk annotations: 2103\n",
            "Curb annotations: 5938\n",
            "Missing curb annotations: 468\n",
            "Total annotations: 8509\n"
          ]
        }
      ],
      "source": [
        "# Create dataframe for each relevant feature\n",
        "crosswalks = psw_Amsterdam[(psw_Amsterdam['label_type'] == 'Crosswalk')]\n",
        "curbs = psw_Amsterdam[(psw_Amsterdam['label_type'] == 'CurbRamp')]\n",
        "missing_curbs = psw_Amsterdam[(psw_Amsterdam['label_type'] == 'NoCurbRamp')]\n",
        "\n",
        "# Create dataframe of all relevant features combined\n",
        "combined = psw_Amsterdam[(psw_Amsterdam['label_type'] == 'Crosswalk' )\n",
        "                         |(psw_Amsterdam['label_type'] == 'CurbRamp')\n",
        "                         |(psw_Amsterdam['label_type'] == 'NoCurbRamp')]\n",
        "\n",
        "print(\"Crosswalk annotations:\", len(crosswalks))\n",
        "print(\"Curb annotations:\", len(curbs))\n",
        "print(\"Missing curb annotations:\", len(missing_curbs))\n",
        "print(\"Total annotations:\", len(combined))"
      ]
    },
    {
      "cell_type": "markdown",
      "metadata": {},
      "source": [
        "### Attributes"
      ]
    },
    {
      "cell_type": "markdown",
      "metadata": {},
      "source": [
        "We will first explore the attributes of the data by looking at an example."
      ]
    },
    {
      "cell_type": "code",
      "execution_count": 20,
      "metadata": {
        "gather": {
          "logged": 1710838722903
        }
      },
      "outputs": [
        {
          "name": "stdout",
          "output_type": "stream",
          "text": [
            "geometry                   POINT (126149.89606146968 481976.2340622852)\n",
            "attribute_id                                                     407162\n",
            "label_type                                                     CurbRamp\n",
            "street_edge_id                                                    16735\n",
            "osm_street_id                                                  13886618\n",
            "neighborhood                                                    E-buurt\n",
            "severity                                                            1.0\n",
            "is_temporary                                                      False\n",
            "label_id                                                          31012\n",
            "gsv_panorama_id                                  hwnYIzNNM0YvnFoE6OOLIg\n",
            "heading                                                         280.375\n",
            "pitch                                                           -18.875\n",
            "zoom                                                                  1\n",
            "canvas_x                                                            333\n",
            "canvas_y                                                            304\n",
            "canvas_width                                                        720\n",
            "canvas_height                                                       480\n",
            "gsv_url               https://maps.googleapis.com/maps/api/streetvie...\n",
            "image_capture_date                                              2022-08\n",
            "label_date                                      2023-04-25 11:30:47.802\n",
            "label_severity                                                      1.0\n",
            "label_is_temporary                                                False\n",
            "agree_count                                                           0\n",
            "disagree_count                                                        0\n",
            "notsure_count                                                         0\n",
            "label_tags                                                           []\n",
            "label_description                                                   NaN\n",
            "user_id                            12f7f7b3-ed78-44e9-b92b-23aa57c41772\n",
            "Name: 0, dtype: object\n",
            "--------------------------------------------------------------------------\n",
            "geometry                        <class 'str'>\n",
            "attribute_id            <class 'numpy.int64'>\n",
            "label_type                      <class 'str'>\n",
            "street_edge_id          <class 'numpy.int64'>\n",
            "osm_street_id           <class 'numpy.int64'>\n",
            "neighborhood                    <class 'str'>\n",
            "severity              <class 'numpy.float64'>\n",
            "is_temporary            <class 'numpy.bool_'>\n",
            "label_id                <class 'numpy.int64'>\n",
            "gsv_panorama_id                 <class 'str'>\n",
            "heading               <class 'numpy.float64'>\n",
            "pitch                 <class 'numpy.float64'>\n",
            "zoom                    <class 'numpy.int64'>\n",
            "canvas_x                <class 'numpy.int64'>\n",
            "canvas_y                <class 'numpy.int64'>\n",
            "canvas_width            <class 'numpy.int64'>\n",
            "canvas_height           <class 'numpy.int64'>\n",
            "gsv_url                         <class 'str'>\n",
            "image_capture_date              <class 'str'>\n",
            "label_date                      <class 'str'>\n",
            "label_severity        <class 'numpy.float64'>\n",
            "label_is_temporary      <class 'numpy.bool_'>\n",
            "agree_count             <class 'numpy.int64'>\n",
            "disagree_count          <class 'numpy.int64'>\n",
            "notsure_count           <class 'numpy.int64'>\n",
            "label_tags                      <class 'str'>\n",
            "label_description             <class 'float'>\n",
            "user_id                         <class 'str'>\n",
            "Name: 0, dtype: object\n"
          ]
        }
      ],
      "source": [
        "print(combined.loc[0])\n",
        "print(\"--------------------------------------------------------------------------\")\n",
        "print(combined.loc[0].apply(type))"
      ]
    },
    {
      "cell_type": "markdown",
      "metadata": {},
      "source": [
        "For this research, the following attributes are relevant:\n",
        "\n",
        "- **geometry**: string depicting the location of the feature according to Rijksdriehoekscoördinaten (the Dutch national coordinate system) in (east-west position, north-south position).\n",
        "- **is_temporary**: Boolean indicating whether a feature is temporary (e.g. due to construction) \n",
        "- **image_capture_date**: string (year-month) indicating when the Google Street View image which users labeled was taken.\n",
        "- **agree_count**: integer that depicts the number of \"agree\" validations provided by Project Sidewalk users.\n",
        "- **disagree_count**: integer that depicts the number of \"disagree\" validations provided by Project Sidewalk users.\n",
        "- **notsure_count**: the number of \"not sure\" validations provided by Project Sidewalk users."
      ]
    },
    {
      "cell_type": "markdown",
      "metadata": {},
      "source": [
        "### Validation counts\n",
        "\n",
        "Each row depicts an annotation made by a user. Each of these annotations is validated by other users who are prompted to label the annotation as 'agree', 'disagree', or 'not sure'. We will explore the validation counts as we only want to keep features that users agree on in order to ensure reliable data. First, we will look at the agree, disagree, and notsure count for each label."
      ]
    },
    {
      "cell_type": "code",
      "execution_count": 21,
      "metadata": {
        "gather": {
          "logged": 1710838726529
        }
      },
      "outputs": [],
      "source": [
        "# Ignore warning message\n",
        "pd.options.mode.chained_assignment = None  # default='warn'\n",
        "\n",
        "# Change counts to categorical variable for plotting purposes\n",
        "def to_categorical(df):\n",
        "    df['agree_count'] = df.agree_count.astype('category')\n",
        "    df['disagree_count'] = df.disagree_count.astype('category')\n",
        "    df['notsure_count'] = df.notsure_count.astype('category')\n",
        "    \n",
        "to_categorical(crosswalks)\n",
        "to_categorical(curbs)\n",
        "to_categorical(missing_curbs)"
      ]
    },
    {
      "cell_type": "code",
      "execution_count": 22,
      "metadata": {
        "gather": {
          "logged": 1710838730138
        }
      },
      "outputs": [
        {
          "data": {
            "image/png": "[encoded data removed]",
            "text/plain": [
              "<Figure size 1500x500 with 3 Axes>"
            ]
          },
          "metadata": {},
          "output_type": "display_data"
        }
      ],
      "source": [
        "# Set custom palette\n",
        "custom_palette = {'agree_count': 'green', 'disagree_count': 'red', 'notsure_count': 'orange'}\n",
        "\n",
        "# Create subplots\n",
        "fig, axs = plt.subplots(1, 3, figsize=(15, 5))\n",
        "\n",
        "    \n",
        "def validation_plot(df, name, axis):\n",
        "    # Melt the DataFrame to long format\n",
        "    melted_df = df.melt(value_vars=['agree_count', 'disagree_count', 'notsure_count'], var_name='Count Type', value_name='Count')\n",
        "\n",
        "    # Plot the count of occurrences for each type of validation\n",
        "    sns.countplot(data=melted_df, x='Count', hue='Count Type', palette=custom_palette, ax=axs[axis])\n",
        "    \n",
        "    # Set labels\n",
        "    axs[axis].set_xlabel('Number of validations')\n",
        "    axs[axis].set_ylabel('Frequency')\n",
        "    axs[axis].set_title('Validation per annotation ' + name)\n",
        "    axs[axis].legend(title='Validation')\n",
        "    \n",
        "# Plot all dataframes\n",
        "validation_plot(crosswalks, \"crosswalks\", 0)\n",
        "validation_plot(curbs, \"curbs\", 1)\n",
        "validation_plot(missing_curbs, \"missing curbs\", 2)\n",
        "\n",
        "    \n",
        "plt.tight_layout()\n",
        "plt.show()"
      ]
    },
    {
      "cell_type": "markdown",
      "metadata": {},
      "source": [
        "The agree validation is most prevalent among the annotations which is a good sign.\n",
        "\n",
        "A few types of datapoints should be removed to ensure the best possible data quality:\n",
        "\n",
        "- Datapoints that have more disagree than agree counts\n",
        "- Datapoints that have more combined disagree and not sure counts than agree counts\n",
        "- Datapoints that have no agree counts"
      ]
    },
    {
      "cell_type": "code",
      "execution_count": 23,
      "metadata": {
        "gather": {
          "logged": 1710838739910
        }
      },
      "outputs": [
        {
          "name": "stdout",
          "output_type": "stream",
          "text": [
            "Types of annotations removed:\n",
            "Number of datapoints with more disagree than agree counts: 0\n",
            "Number of datapoints with more disagree + not sure than agree counts: 182\n",
            "Number of datapoints with no agree counts: 2765\n",
            "------------------------------------------------------------------------------------\n",
            "Annotations removed per accessibility metric:\n",
            "label_type\n",
            "CurbRamp      2562\n",
            "Crosswalk      171\n",
            "NoCurbRamp      50\n",
            "Name: count, dtype: int64\n"
          ]
        }
      ],
      "source": [
        "# Find datapoints that a majority disagrees on\n",
        "disagreed = combined[combined['disagree_count'] > combined['agree_count']]\n",
        "\n",
        "# Find datapoints that have more disagree and not sure counts than agree counts\n",
        "disagreed_unsure = combined[combined['disagree_count'] + combined['notsure_count'] > combined['agree_count']]\n",
        "\n",
        "# Find datapoints that have no agree counts\n",
        "not_validated = combined[combined[\"agree_count\"] == 0]\n",
        "\n",
        "removed = combined[(combined['disagree_count'] > combined['agree_count']) | \n",
        "                    ((combined['disagree_count'] + combined['notsure_count']) > combined['agree_count']) |\n",
        "                    ((combined[\"agree_count\"] == 0))]\n",
        "\n",
        "# Print results\n",
        "print(\"Types of annotations removed:\")\n",
        "print(\"Number of datapoints with more disagree than agree counts:\", len(disagreed))\n",
        "print(\"Number of datapoints with more disagree + not sure than agree counts:\", len (disagreed_unsure))\n",
        "print(\"Number of datapoints with no agree counts:\", len(not_validated))\n",
        "print(\"------------------------------------------------------------------------------------\")\n",
        "\n",
        "\n",
        "# Remove datapoints from original data\n",
        "combined = combined[(combined['disagree_count'] < combined['agree_count']) & \n",
        "                    ((combined['disagree_count'] + combined['notsure_count']) < combined['agree_count']) &\n",
        "                    ((combined[\"agree_count\"] != 0))]\n",
        "\n",
        "\n",
        "# Print results\n",
        "print(\"Annotations removed per accessibility metric:\")\n",
        "print(removed['label_type'].value_counts())"
      ]
    },
    {
      "cell_type": "markdown",
      "metadata": {},
      "source": [
        "#### Is temporary\n",
        "\n",
        "is_temporary indicates whether an annotation is temporary. These annotations will also be removed as they are outliers and do not portray the permanent pedestrian infrastructure."
      ]
    },
    {
      "cell_type": "code",
      "execution_count": 24,
      "metadata": {
        "gather": {
          "logged": 1710838744417
        }
      },
      "outputs": [
        {
          "name": "stdout",
          "output_type": "stream",
          "text": [
            "Number of temporary annotations: 2\n",
            "-------------------------------------------------------\n",
            "Annotations removed per accessibility metric:\n",
            "label_type\n",
            "Crosswalk     1\n",
            "NoCurbRamp    1\n",
            "Name: count, dtype: int64\n"
          ]
        }
      ],
      "source": [
        "# Find temporary annotations\n",
        "removed = combined[combined['is_temporary'] == True]\n",
        "\n",
        "# Print results\n",
        "print(\"Number of temporary annotations:\", len(removed))\n",
        "print(\"-------------------------------------------------------\")\n",
        "\n",
        "# Remove datapoints from original data\n",
        "combined = combined[combined['is_temporary'] != True]\n",
        "\n",
        "# Print results\n",
        "print(\"Annotations removed per accessibility metric:\")\n",
        "print(removed['label_type'].value_counts())"
      ]
    },
    {
      "cell_type": "markdown",
      "metadata": {},
      "source": [
        "#### Image capture date\n",
        "\n",
        "The data that is used would ideally be up to date. The image_capture_date indicates when the Google Street View panorama used to label the data was taken and thus shows how recent the data is. The dates should be compared with the other data sources used in order to estimate whether there is a significant difference that might lead to issues. This can be the case as the Project Sidewalk data will be used for validation but is not the data that will be fed to the model."
      ]
    },
    {
      "cell_type": "code",
      "execution_count": 25,
      "metadata": {
        "gather": {
          "logged": 1710838746677
        }
      },
      "outputs": [
        {
          "name": "stdout",
          "output_type": "stream",
          "text": [
            "['2008-06', '2008-07', '2009-05', '2009-08', '2010-09', '2010-10', '2014-05', '2014-06', '2014-07', '2014-08', '2015-05', '2015-06', '2015-07', '2015-08', '2016-04', '2016-05', '2016-06', '2016-08', '2017-06', '2017-07', '2017-09', '2018-05', '2018-06', '2019-03', '2019-04', '2019-05', '2019-06', '2019-07', '2020-06', '2020-07', '2020-08', '2020-09', '2020-10', '2020-11', '2020-12', '2021-03', '2021-04', '2021-06', '2021-07', '2021-08', '2021-09', '2021-10', '2021-11', '2021-12', '2022-01', '2022-02', '2022-03', '2022-04', '2022-06', '2022-07', '2022-08', '2022-09', '2022-11', '2023-06']\n"
          ]
        }
      ],
      "source": [
        "# Get unique dates\n",
        "print(sorted(combined['image_capture_date'].unique()))"
      ]
    },
    {
      "cell_type": "markdown",
      "metadata": {},
      "source": [
        "We see that the date of the images ranges from 2008 to 2023. We should now explore how the annotations are distributed over the years."
      ]
    },
    {
      "cell_type": "code",
      "execution_count": 26,
      "metadata": {
        "gather": {
          "logged": 1710838748909
        }
      },
      "outputs": [
        {
          "name": "stderr",
          "output_type": "stream",
          "text": [
            "/anaconda/envs/myenv/lib/python3.9/site-packages/seaborn/_oldcore.py:1119: FutureWarning: use_inf_as_na option is deprecated and will be removed in a future version. Convert inf values to NaN before operating instead.\n",
            "  with pd.option_context('mode.use_inf_as_na', True):\n"
          ]
        },
        {
          "data": {
            "image/png": "[encoded data removed]",
            "text/plain": [
              "<Figure size 1000x600 with 1 Axes>"
            ]
          },
          "metadata": {},
          "output_type": "display_data"
        }
      ],
      "source": [
        "# Convert dates to datetime objects\n",
        "combined['image_capture_date'] = pd.to_datetime(combined['image_capture_date'])\n",
        "\n",
        "# Extract years from dates\n",
        "combined['year'] = combined['image_capture_date'].dt.year\n",
        "\n",
        "# Plot histogram using seaborn\n",
        "plt.figure(figsize=(10, 6))\n",
        "sns.histplot(data=combined, x='year', discrete=True, kde=False)\n",
        "\n",
        "# Set labels\n",
        "plt.xlabel('Year')\n",
        "plt.ylabel('Frequency')\n",
        "plt.title('Frequency of Annotations per Year')\n",
        "plt.xticks(rotation=45)\n",
        "\n",
        "# Show plot\n",
        "plt.show()"
      ]
    },
    {
      "cell_type": "markdown",
      "metadata": {},
      "source": [
        "Most annotations are based on panoramic images from 2019 to 2022. "
      ]
    },
    {
      "cell_type": "markdown",
      "metadata": {},
      "source": [
        "### Final data\n",
        "\n",
        "Lastly we will check how many annotations per accessibilty remain after the filtering."
      ]
    },
    {
      "cell_type": "code",
      "execution_count": 27,
      "metadata": {
        "gather": {
          "logged": 1710838754673
        }
      },
      "outputs": [
        {
          "name": "stdout",
          "output_type": "stream",
          "text": [
            "label_type\n",
            "CurbRamp      3301\n",
            "Crosswalk     1919\n",
            "NoCurbRamp     357\n",
            "Name: count, dtype: int64\n"
          ]
        }
      ],
      "source": [
        "# Print number of remaining annotations\n",
        "print(combined['label_type'].value_counts())"
      ]
    },
    {
      "cell_type": "code",
      "execution_count": 28,
      "metadata": {},
      "outputs": [],
      "source": [
        "# combined.to_csv(\"../../data/clean PSW df Amsterdam\", index=False)"
      ]
    },
    {
      "cell_type": "markdown",
      "metadata": {},
      "source": [
        "## Integrating data"
      ]
    },
    {
      "cell_type": "markdown",
      "metadata": {},
      "source": [
        "In the research, data from different sources will be integrated. Firstly, data from an aerial image will be used to detect crosswalks using an online tool (Tile2Net). The detected crosswalks will be validated using the Project Sidewalk annotations. Lastly, the validated crosswalks will be transferred to point cloud data of Amsterdam. \n",
        "\n",
        "In order to succesfully integrate data from these different sources, we need to examine two things.\n",
        "- **Coordinate systems**: as we want to integrate annotations from different sources, we need to know the coordinate system used by each one. Additionally, the precision of the coordinates should be checked.\n",
        "- **Compatibility**: the aerial images should be checked for compatibility with Tile2Net. This concerns matters such as resolution and clarity.\n",
        "\n",
        "If there are differences, appropriate transformations or adjustments have to be implemented to ensure compatibility and accuracy."
      ]
    },
    {
      "cell_type": "markdown",
      "metadata": {},
      "source": [
        "### Aerial image"
      ]
    },
    {
      "cell_type": "markdown",
      "metadata": {},
      "source": [
        "The aerial image used for this project is the yearly aerial image of Amsterdam from 2023 (https://www.amsterdam.nl/bestuur-organisatie/organisatie/dii/basisinformatie/basisinformatie/registraties/luchtfoto's/). \n",
        "\n",
        "The aerial image is in ECW (Enhanced Compression Wavelet) format. This is a proprietary wavelet compression image format. These files require software such as QGIS to view them. QGIS can additionally be used to create tiles from the ECW file. \n",
        "\n",
        "The X and Y coordinates in the point cloud are coordinates that follow the 'Rijksdriehoekscoördinaten'. This is a spatial reference system used nationally in the Netherlands. Both Project Sidewalk and the point clouds use the same system to depict locations, enabling easy annotation transfers between the sources. These coordinates can easily be convereted to GPS coordinates using some (online) converter."
      ]
    },
    {
      "cell_type": "markdown",
      "metadata": {},
      "source": [
        "### Point Clouds\n",
        "\n",
        "Point clouds can be seen as 3D photos. Each datapoint depicts a point in space depicted by an X, Y, and Z coordinate. Additionally, each datapoint has an R, G, and B value depicting its color and an intesity value which indicates the return strength of the laser pulse that generated the point. This information can be used to accurately map the exact position and measurement of objects.\n",
        "\n",
        "The city of Amsterdam is captured in one point cloud. For easier processing, this point cloud is split into smaller tiles. Each tile covers exactly 50 by 50 meters. The tile files are marked by the coordinates of their lower left corner: \n",
        "\n",
        "```python\n",
        "tilecode = [X-coordinate/50]_[Y-coordinate/50]\n",
        "```"
      ]
    },
    {
      "cell_type": "markdown",
      "metadata": {},
      "source": [
        "#### Tile2Net\n",
        "Tile2Net is a tool for automated mapping of pedestrian infrastructure from aerial imagery. The tool detects roads, sidewalks, crosswalks, and footpaths. The tool takes tile images that follow the Slippy Tile Map system as input. These tile images are raster tiles delivered as PNG files which are square-shaped. Following the Slippy Tile Map system, all tiles should be 256x256 pixels. Each tile should be defined as {X_tile}_{Y_tile}.png. the X and Y coordinates are the position of the top left corner of the image. These coordinates are based on the zoom level and number of tiles but there is a mathematical way to convert them into geographical coordinates.\n",
        "\n",
        "The input folder can look as follows:\n",
        "\n",
        "```python\n",
        "raster = Raster(\n",
        "    location=location,\n",
        "    name='central_park',\n",
        "    input_dir='<path/to/tiles/z/y/x.png>',\n",
        "    zoom=19,\n",
        ")\n",
        "raster\n",
        "```\n",
        "In which z is the zoom level of the tiles. \n",
        "\n",
        "QGIS can be used to split the ECW aerial image into the correct tiles."
      ]
    },
    {
      "cell_type": "markdown",
      "metadata": {},
      "source": [
        "# Check duplicates\n",
        "During a different task I found multiple entries with the same geometric points. I will check how many unique crosswalks we have."
      ]
    },
    {
      "cell_type": "markdown",
      "metadata": {},
      "source": []
    },
    {
      "cell_type": "code",
      "execution_count": 29,
      "metadata": {},
      "outputs": [
        {
          "name": "stdout",
          "output_type": "stream",
          "text": [
            "Total crosswalk annotations: 1919\n",
            "Unique crosswalk annotations: 785\n",
            "Total curb ramp annotations: 3301\n",
            "Unique curb ramp annotations: 2514\n",
            "Total missing curb ramp annotations: 357\n",
            "Unique missing curb ramp annotations: 317\n"
          ]
        }
      ],
      "source": [
        "crosswalks = combined[combined['label_type'] == 'Crosswalk']\n",
        "curbs = combined[combined['label_type'] == 'CurbRamp']\n",
        "nocurbs = combined[combined['label_type'] == 'NoCurbRamp']\n",
        "\n",
        "print(\"Total crosswalk annotations:\", len(crosswalks))\n",
        "print(\"Unique crosswalk annotations:\", len(pd.unique(crosswalks['attribute_id'])))\n",
        "print(\"Total curb ramp annotations:\", len(curbs))\n",
        "print(\"Unique curb ramp annotations:\", len(pd.unique(curbs['attribute_id'])))\n",
        "print(\"Total missing curb ramp annotations:\", len(nocurbs))\n",
        "print(\"Unique missing curb ramp annotations:\", len(pd.unique(nocurbs['attribute_id'])))"
      ]
    }
  ],
  "metadata": {
    "kernel_info": {
      "name": "myenv"
    },
    "kernelspec": {
      "display_name": "python 3.9 (myenv, Leah)v",
      "language": "python",
      "name": "myenv"
    },
    "language_info": {
      "codemirror_mode": {
        "name": "ipython",
        "version": 3
      },
      "file_extension": ".py",
      "mimetype": "text/x-python",
      "name": "python",
      "nbconvert_exporter": "python",
      "pygments_lexer": "ipython3",
      "version": "3.9.19"
    },
    "microsoft": {
      "host": {
        "AzureML": {
          "notebookHasBeenCompleted": true
        }
      },
      "ms_spell_check": {
        "ms_spell_check_language": "en"
      }
    },
    "nteract": {
      "version": "nteract-front-end@1.0.0"
    }
  },
  "nbformat": 4,
  "nbformat_minor": 2
}
