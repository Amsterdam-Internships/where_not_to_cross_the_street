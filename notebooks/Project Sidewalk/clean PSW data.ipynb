{
 "cells": [
  {
   "cell_type": "code",
   "execution_count": 11,
   "metadata": {},
   "outputs": [],
   "source": [
    "import pandas as pd\n",
    "import numpy as np"
   ]
  },
  {
   "cell_type": "code",
   "execution_count": 12,
   "metadata": {},
   "outputs": [],
   "source": [
    "# Load PSW data to clean\n",
    "psw_to_clean = pd.read_csv('../../data/raw PSW df Osdorp-Midden')"
   ]
  },
  {
   "cell_type": "code",
   "execution_count": 13,
   "metadata": {},
   "outputs": [],
   "source": [
    "# Select relevant rows\n",
    "relevant_rows = psw_to_clean[(psw_to_clean['label_type'] == 'Crosswalk' )]"
   ]
  },
  {
   "cell_type": "code",
   "execution_count": 14,
   "metadata": {},
   "outputs": [],
   "source": [
    "# Only keep sufficiently validated rows\n",
    "validated = relevant_rows[(relevant_rows['disagree_count'] < relevant_rows['agree_count']) & \n",
    "                    ((relevant_rows['disagree_count'] + relevant_rows['notsure_count']) < relevant_rows['agree_count']) &\n",
    "                    ((relevant_rows[\"agree_count\"] != 0))]"
   ]
  },
  {
   "cell_type": "code",
   "execution_count": 15,
   "metadata": {},
   "outputs": [],
   "source": [
    "# Remove temporary annotations\n",
    "cleaned_df = validated[validated['is_temporary'] == False]"
   ]
  },
  {
   "cell_type": "code",
   "execution_count": 16,
   "metadata": {},
   "outputs": [
    {
     "name": "stdout",
     "output_type": "stream",
     "text": [
      "Crosswalk    278\n",
      "Name: label_type, dtype: int64\n"
     ]
    }
   ],
   "source": [
    "# Print number of remaining annotations\n",
    "print(cleaned_df['label_type'].value_counts())"
   ]
  },
  {
   "cell_type": "code",
   "execution_count": 17,
   "metadata": {},
   "outputs": [],
   "source": [
    "# Save dataframe\n",
    "cleaned_df.to_csv(\"../../data/clean PSW df Osdorp-Midden\", index=False)"
   ]
  }
 ],
 "metadata": {
  "kernelspec": {
   "display_name": "Python 3.8 - AzureML",
   "language": "python",
   "name": "python38-azureml"
  },
  "language_info": {
   "codemirror_mode": {
    "name": "ipython",
    "version": 3
   },
   "file_extension": ".py",
   "mimetype": "text/x-python",
   "name": "python",
   "nbconvert_exporter": "python",
   "pygments_lexer": "ipython3",
   "version": "3.8.5"
  }
 },
 "nbformat": 4,
 "nbformat_minor": 2
}
