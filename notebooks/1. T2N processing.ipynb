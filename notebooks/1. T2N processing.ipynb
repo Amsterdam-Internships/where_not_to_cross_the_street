{
  "cells": [
    {
      "cell_type": "code",
      "execution_count": 1,
      "metadata": {
        "gather": {
          "logged": 1719840770949
        },
        "jupyter": {
          "outputs_hidden": false,
          "source_hidden": false
        },
        "nteract": {
          "transient": {
            "deleting": false
          }
        }
      },
      "outputs": [],
      "source": [
        "import geopandas as gpd"
      ]
    },
    {
      "cell_type": "markdown",
      "metadata": {},
      "source": [
        "# Notebook overview\n",
        "This notebook takes the output polygons from Tile2Net and filters them to only keep the polygons of interest. Firstly, we filter out all polygons that are not labeled as crosswalks. Secondly, we fiter out the polygons that do not fall into our area of interest which is specified with another polygon. We only keep crosswalk polygons that overlap with the area of interest polygon.\n",
        "\n",
        "**Input**: \n",
        "- Shapely file with polygons as put out by Tile2Net.\n",
        "- GeoJSON file with polygon of area of interest.\n",
        "\n",
        "**Output**: shapely file of crosswalk polygons in correct area."
      ]
    },
    {
      "cell_type": "markdown",
      "metadata": {},
      "source": [
        "## Settings"
      ]
    },
    {
      "cell_type": "code",
      "execution_count": 2,
      "metadata": {
        "gather": {
          "logged": 1719840772969
        }
      },
      "outputs": [],
      "source": [
        "# Set CRS\n",
        "CRS = 'epsg:28992'"
      ]
    },
    {
      "cell_type": "markdown",
      "metadata": {},
      "source": [
        "## Load data"
      ]
    },
    {
      "cell_type": "markdown",
      "metadata": {},
      "source": [
        "We first load the polygons as provided by Tile2Net. We then filter for crosswalk polygons as the tool provides more than just those."
      ]
    },
    {
      "cell_type": "code",
      "execution_count": 3,
      "metadata": {
        "gather": {
          "logged": 1719840874382
        }
      },
      "outputs": [],
      "source": [
        "# Set path where T2N output polygons can be found\n",
        "T2N_path = \"../data/input/polygons Tile2Net/output polygons T2N.shp\"\n",
        "\n",
        "# Load polygons as put out by T2N\n",
        "raw_polygons = gpd.read_file(T2N_path)\n",
        "\n",
        "# Adjust CRS\n",
        "raw_polygons = raw_polygons.to_crs(CRS)\n",
        "\n",
        "# Filter for crosswalks polygons\n",
        "CW_polygons = raw_polygons[raw_polygons['f_type'] == 'crosswalk']"
      ]
    },
    {
      "cell_type": "code",
      "execution_count": 4,
      "metadata": {},
      "outputs": [],
      "source": [
        "# Set path to polygon of area\n",
        "polygon_path = \"../data/input/polygon area/polygon area.geojson\"\n",
        "\n",
        "# Get polygon\n",
        "area_gdf = gpd.read_file(polygon_path)\n",
        "area_polygon = area_gdf.loc[0]['geometry']"
      ]
    },
    {
      "cell_type": "markdown",
      "metadata": {},
      "source": [
        "We only want the crosswalks that are in our area of interest. T2N has generated crosswalks for a larger area so we need to filter out the polygons that are not in our area of interest."
      ]
    },
    {
      "cell_type": "code",
      "execution_count": 5,
      "metadata": {
        "gather": {
          "logged": 1716501047392
        }
      },
      "outputs": [],
      "source": [
        "# Only keep crosswalk polygons that fall within the bouds of the area\n",
        "indexes = []\n",
        "\n",
        "# Loop over crosswalk polygons\n",
        "for CW in CW_polygons.itertuples():\n",
        "\n",
        "    # Save indices of polygons that are not in the area of interest\n",
        "    if not (area_polygon.intersects(CW[2])):\n",
        "        indexes.append(CW[0])\n",
        "\n",
        "# Drop rows with polygons outside of the area of interest based on index\n",
        "CW_polygons = CW_polygons.drop(index=indexes)\n",
        "CW_polygons = CW_polygons.reset_index(drop=True)"
      ]
    },
    {
      "cell_type": "code",
      "execution_count": 6,
      "metadata": {
        "gather": {
          "logged": 1716501065014
        }
      },
      "outputs": [],
      "source": [
        "# Save the filtered polygons\n",
        "CW_polygons_path = \"../data/output/crosswalk polygons Tile2Net.shp\"\n",
        "\n",
        "CW_polygons.to_file(CW_polygons_path)"
      ]
    }
  ],
  "metadata": {
    "kernel_info": {
      "name": "tile2net"
    },
    "kernelspec": {
      "display_name": "tile2net",
      "language": "python",
      "name": "python3"
    },
    "language_info": {
      "codemirror_mode": {
        "name": "ipython",
        "version": 3
      },
      "file_extension": ".py",
      "mimetype": "text/x-python",
      "name": "python",
      "nbconvert_exporter": "python",
      "pygments_lexer": "ipython3",
      "version": "3.11.8"
    },
    "microsoft": {
      "host": {
        "AzureML": {
          "notebookHasBeenCompleted": true
        }
      },
      "ms_spell_check": {
        "ms_spell_check_language": "en"
      }
    },
    "nteract": {
      "version": "nteract-front-end@1.0.0"
    }
  },
  "nbformat": 4,
  "nbformat_minor": 2
}
