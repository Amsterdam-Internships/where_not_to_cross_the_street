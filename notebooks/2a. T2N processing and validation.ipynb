{
  "cells": [
    {
      "cell_type": "code",
      "execution_count": 2,
      "metadata": {
        "gather": {
          "logged": 1713859283902
        },
        "jupyter": {
          "outputs_hidden": false,
          "source_hidden": false
        },
        "nteract": {
          "transient": {
            "deleting": false
          }
        }
      },
      "outputs": [],
      "source": [
        "from shapely.geometry import Point\n",
        "import pandas as pd\n",
        "import geopandas as gpd\n",
        "import pyproj\n",
        "from shapely.ops import transform"
      ]
    },
    {
      "cell_type": "markdown",
      "metadata": {},
      "source": [
        "## Load data"
      ]
    },
    {
      "cell_type": "code",
      "execution_count": 1,
      "metadata": {
        "jupyter": {
          "outputs_hidden": false,
          "source_hidden": false
        },
        "nteract": {
          "transient": {
            "deleting": false
          }
        }
      },
      "outputs": [
        {
          "data": {
            "text/plain": [
              "0"
            ]
          },
          "execution_count": 1,
          "metadata": {},
          "output_type": "execute_result"
        }
      ],
      "source": [
        "# Connect to blobfuse folder\n",
        "os.system('sudo blobfuse /home/azureuser/cloudfiles/code/blobfuse/sidewalk --tmp-path=/mnt/resource/blobfusetmp --config-file=/home/azureuser/cloudfiles/code/blobfuse/fuse_connection_sidewalk.cfg -o attr_timeout=3600 -o entry_timeout=3600 -o negative_timeout=3600 -o allow_other -o nonempty')"
      ]
    },
    {
      "cell_type": "code",
      "execution_count": 4,
      "metadata": {},
      "outputs": [],
      "source": [
        "# Load polygons\n",
        "polygons = gpd.read_file(\"/home/azureuser/cloudfiles/code/blobfuse/sidewalk/processed_data/crossings_project/tiles/Osdorp complete/22 output/output-Polygons-29-04-2024_17.shp\")"
      ]
    },
    {
      "cell_type": "code",
      "execution_count": 5,
      "metadata": {},
      "outputs": [],
      "source": [
        "# Filter crosswalks polygons\n",
        "CW_polygons = polygons[polygons['f_type'] == 'crosswalk']"
      ]
    },
    {
      "cell_type": "markdown",
      "metadata": {},
      "source": [
        "We only want the crosswalks that are in Osdorp-Midden. We filter for those."
      ]
    },
    {
      "cell_type": "code",
      "execution_count": 6,
      "metadata": {},
      "outputs": [
        {
          "name": "stderr",
          "output_type": "stream",
          "text": [
            "/tmp/ipykernel_74516/4099303291.py:8: FutureWarning: Series.__getitem__ treating keys as positions is deprecated. In a future version, integer keys will always be treated as labels (consistent with DataFrame behavior). To access a value by position, use `ser.iloc[pos]`\n",
            "  Os_pol = Os.loc[0][0]\n"
          ]
        }
      ],
      "source": [
        "# Get Osdorp polygon\n",
        "Os = pd.read_csv(\"../data/polygons/polygon Osdorp-Midden\")\n",
        "\n",
        "# Change geometry column to geometry type\n",
        "Os['geometry'] = gpd.GeoSeries.from_wkt(Os['geometry'])\n",
        "\n",
        "# Save only polygon as variable\n",
        "Os_pol = Os.loc[0][0]"
      ]
    },
    {
      "cell_type": "code",
      "execution_count": 7,
      "metadata": {},
      "outputs": [],
      "source": [
        "# Only keep crosswalk polygons that fall within the bouds of Osdorp-Midden\n",
        "indexes = []\n",
        "\n",
        "for CW in CW_polygons.itertuples():\n",
        "    if not Os_pol.contains(CW[2]):\n",
        "        indexes.append(CW[0])\n",
        "\n",
        "# Drop rows based on index\n",
        "CW_polygons = CW_polygons.drop(index=indexes)"
      ]
    },
    {
      "cell_type": "code",
      "execution_count": 8,
      "metadata": {},
      "outputs": [],
      "source": [
        "# CW_polygons.to_file(\"/home/azureuser/cloudfiles/code/blobfuse/sidewalk/processed_data/crossings_project/tiles/Osdorp complete/22 output/CW_polygons_22\")"
      ]
    },
    {
      "cell_type": "code",
      "execution_count": 9,
      "metadata": {},
      "outputs": [],
      "source": [
        "# Load CW polygons\n",
        "CW_pols_20 = gpd.read_file(\"/home/azureuser/cloudfiles/code/blobfuse/sidewalk/processed_data/crossings_project/tiles/Osdorp complete/20 output/CW_polygons_20.shp\")\n",
        "CW_pols_21 = gpd.read_file(\"/home/azureuser/cloudfiles/code/blobfuse/sidewalk/processed_data/crossings_project/tiles/Osdorp complete/21 output/CW_polygons_21.shp\")\n",
        "\n",
        "# Load PSW data\n",
        "PSW = gpd.read_file(\"/home/azureuser/cloudfiles/code/blobfuse/sidewalk/processed_data/crossings_project/tiles/Osdorp complete/CW_psw_points.shp\")"
      ]
    },
    {
      "cell_type": "markdown",
      "metadata": {},
      "source": [
        "## Transformation\n",
        "We need to transform the PSW points to the same format as the crosswalk polygons so we can compare them."
      ]
    },
    {
      "cell_type": "code",
      "execution_count": 10,
      "metadata": {},
      "outputs": [
        {
          "name": "stderr",
          "output_type": "stream",
          "text": [
            "/anaconda/envs/tile2net/lib/python3.11/site-packages/pyproj/crs/crs.py:141: FutureWarning: '+init=<authority>:<code>' syntax is deprecated. '<authority>:<code>' is the preferred initialization method. When making the change, be mindful of axis order changes: https://pyproj4.github.io/pyproj/stable/gotchas.html#axis-order-changes-in-proj-6\n",
            "  in_crs_string = _prepare_from_proj_string(in_crs_string)\n",
            "/anaconda/envs/tile2net/lib/python3.11/site-packages/pyproj/crs/crs.py:141: FutureWarning: '+init=<authority>:<code>' syntax is deprecated. '<authority>:<code>' is the preferred initialization method. When making the change, be mindful of axis order changes: https://pyproj4.github.io/pyproj/stable/gotchas.html#axis-order-changes-in-proj-6\n",
            "  in_crs_string = _prepare_from_proj_string(in_crs_string)\n"
          ]
        }
      ],
      "source": [
        "project = pyproj.Transformer.from_proj(\n",
        "    pyproj.Proj(init='epsg:4326'), # source coordinate system\n",
        "    pyproj.Proj(init='epsg:28992')) # destination coordinate system\n",
        "\n",
        "def apply_projection(geometry):\n",
        "    # Your projection transformation code here\n",
        "    transformed_geometry = transform(project.transform, geometry)\n",
        "    return transformed_geometry"
      ]
    },
    {
      "cell_type": "markdown",
      "metadata": {},
      "source": [
        "As some PSW points do not overlap with the crosswalk they are supposed to tag, we change the points to bigger polygons. This will make sure we do not miss any true positives because of problems with the validation data."
      ]
    },
    {
      "cell_type": "code",
      "execution_count": 11,
      "metadata": {},
      "outputs": [],
      "source": [
        "# Make circle from point\n",
        "PSW_circle = PSW.copy()\n",
        "PSW_circle['geometry'] = PSW_circle['geometry'].apply(apply_projection)\n",
        "PSW_circle['geometry'] = PSW_circle['geometry'].buffer(0.00003)\n",
        "# PSW_circle.to_file(\"/home/azureuser/cloudfiles/code/blobfuse/sidewalk/processed_data/crossings_project/tiles/Osdorp complete/PSW_WGS_radius.shp\")"
      ]
    },
    {
      "cell_type": "markdown",
      "metadata": {},
      "source": [
        "## Validation\n",
        "\n",
        "For the validation we need to consider four cases:\n",
        "- **True Positive**: crosswalk polygon that contains a PSW point.\n",
        "- **False Positive**: crosswalk polygon that does not contain a PSW point.\n",
        "- **True Negative**: no crosswalk polygon and no PSW point.\n",
        "- **False Negative**: PSW point that does not overlap with a crosswalk polygon.\n",
        "\n",
        "The first validation will be based on whether a project sidewalk point is contained fully in one of the polygons."
      ]
    },
    {
      "cell_type": "code",
      "execution_count": 12,
      "metadata": {},
      "outputs": [],
      "source": [
        "# Compute true positives and false positives\n",
        "def validate(CW_df, PSW_df):\n",
        "    TP = []\n",
        "    TP_index = []\n",
        "    FP = []\n",
        "    FP_index = []\n",
        "    FN = []\n",
        "    FN_index = []\n",
        "\n",
        "    # List to keep track of PSW points that have a match\n",
        "    PSW_matches = []\n",
        "\n",
        "    # Loop over all crosswalks\n",
        "    for CW in CW_df.itertuples():\n",
        "        CW_matches = []\n",
        "\n",
        "        # Loop over all psw points\n",
        "        for point in PSW_df.itertuples():\n",
        "\n",
        "            # Check if any of the points is in the crosswalk polygon\n",
        "            if CW[2].intersects(point[2]):\n",
        "                CW_matches.append(point[2])\n",
        "                \n",
        "                # Add PSW point to matches if it is not already in there\n",
        "                if point[2] not in PSW_matches:\n",
        "                    PSW_matches.append(point[2])\n",
        "\n",
        "        # If a crosswalk has one or more matches, append to true positives\n",
        "        if len(CW_matches) != 0:\n",
        "            TP.append([CW[2], CW_matches])\n",
        "            TP_index.append(CW[0])\n",
        "\n",
        "        # If a crosswalk has no matches, append to false positives\n",
        "        if len(CW_matches) == 0:\n",
        "            FP.append(CW[2])\n",
        "            FP_index.append(CW[0])\n",
        "\n",
        "    for point in PSW_df.itertuples():\n",
        "        if point[2] not in PSW_matches:\n",
        "            FN.append(point[2])\n",
        "            FN_index.append(point[0])\n",
        "    \n",
        "    return TP, FP, FN, TP_index, FP_index, FN_index, PSW_matches"
      ]
    },
    {
      "cell_type": "code",
      "execution_count": 13,
      "metadata": {},
      "outputs": [
        {
          "name": "stderr",
          "output_type": "stream",
          "text": [
            "/anaconda/envs/tile2net/lib/python3.11/site-packages/shapely/predicates.py:798: RuntimeWarning: invalid value encountered in intersects\n",
            "  return lib.intersects(a, b, **kwargs)\n"
          ]
        },
        {
          "ename": "NameError",
          "evalue": "name 'PSW_og' is not defined",
          "output_type": "error",
          "traceback": [
            "\u001b[0;31m---------------------------------------------------------------------------\u001b[0m",
            "\u001b[0;31mNameError\u001b[0m                                 Traceback (most recent call last)",
            "Cell \u001b[0;32mIn[13], line 7\u001b[0m\n\u001b[1;32m      5\u001b[0m CW_TP_20 \u001b[38;5;241m=\u001b[39m CW_pols_20\u001b[38;5;241m.\u001b[39miloc[TP_index_20, :]\n\u001b[1;32m      6\u001b[0m CW_FP_20 \u001b[38;5;241m=\u001b[39m CW_pols_20\u001b[38;5;241m.\u001b[39miloc[FP_index_20, :]\n\u001b[0;32m----> 7\u001b[0m PSW_FN_20 \u001b[38;5;241m=\u001b[39m \u001b[43mPSW_og\u001b[49m\u001b[38;5;241m.\u001b[39miloc[FN_index_20, :]\n\u001b[1;32m      8\u001b[0m CW_TP_21 \u001b[38;5;241m=\u001b[39m CW_pols_21\u001b[38;5;241m.\u001b[39miloc[TP_index_21, :]\n\u001b[1;32m      9\u001b[0m CW_FP_21 \u001b[38;5;241m=\u001b[39m CW_pols_21\u001b[38;5;241m.\u001b[39miloc[FP_index_21, :]\n",
            "\u001b[0;31mNameError\u001b[0m: name 'PSW_og' is not defined"
          ]
        }
      ],
      "source": [
        "TP_20, FP_20, FN_20, TP_index_20, FP_index_20, FN_index_20, PSW_matches_20 = validate(CW_pols_20, PSW_circle)\n",
        "TP_21, FP_21, FN_21, TP_index_21, FP_index_21, FN_index_21, PSW_matches_21 = validate(CW_pols_21, PSW_circle)\n",
        "\n",
        "# Create dataframes\n",
        "CW_TP_20 = CW_pols_20.iloc[TP_index_20, :]\n",
        "CW_FP_20 = CW_pols_20.iloc[FP_index_20, :]\n",
        "PSW_FN_20 = PSW_og.iloc[FN_index_20, :]\n",
        "CW_TP_21 = CW_pols_21.iloc[TP_index_21, :]\n",
        "CW_FP_21 = CW_pols_21.iloc[FP_index_21, :]\n",
        "PSW_FN_21 = PSW_og.iloc[FN_index_21, :]\n",
        "\n",
        "print(\"Total crosswalks PSW: \", len(PSW))\n",
        "print(\"-------------------------------------\")\n",
        "print(\"Results for zoom level 20\")\n",
        "print(\"Total polygons T2N: \", len(CW_pols_20))\n",
        "print(\"True positives: \", len(TP_20))\n",
        "print(\"False positives: \", len(FP_20))\n",
        "print(\"False negatives: \", len(FN_20))\n",
        "print(\"PSW matches: \", len(PSW_matches_20))\n",
        "\n",
        "print(\"-------------------------------------\")\n",
        "print(\"Results for zoom level 21\")\n",
        "print(\"Total polygons T2N: \", len(CW_pols_21))\n",
        "print(\"True positives: \", len(TP_21))\n",
        "print(\"False positives: \", len(FP_21))\n",
        "print(\"False negatives: \", len(FN_21))\n",
        "print(\"PSW matches: \", len(PSW_matches_21))\n"
      ]
    },
    {
      "cell_type": "code",
      "execution_count": null,
      "metadata": {},
      "outputs": [],
      "source": [
        "# Compute accuracy, precision, and recall\n",
        "def metrics(TP, FP, FN, zoom):\n",
        "    precision = len(TP) / (len(TP) + len(FP))\n",
        "    recall = len(TP) / (len(TP) + len(FN))\n",
        "\n",
        "    print(\"Zoom level \"+zoom+\":\")\n",
        "    print(\"Precision: \", precision)\n",
        "    print(\"Recall: \", recall)\n",
        "\n",
        "    return precision, recall"
      ]
    },
    {
      "cell_type": "code",
      "execution_count": null,
      "metadata": {},
      "outputs": [
        {
          "name": "stdout",
          "output_type": "stream",
          "text": [
            "Zoom level 20:\n",
            "Precision:  0.75\n",
            "Recall:  0.75\n",
            "--------------------------------------------\n",
            "Zoom level 21:\n",
            "Precision:  0.7327586206896551\n",
            "Recall:  0.8947368421052632\n"
          ]
        }
      ],
      "source": [
        "prec_20, rec_20 = metrics(TP_20, FP_20, FN_20, \"20\")\n",
        "print(\"--------------------------------------------\")\n",
        "prec_21, rec_21 = metrics(TP_21, FP_21, FN_21, \"21\")"
      ]
    },
    {
      "cell_type": "code",
      "execution_count": null,
      "metadata": {},
      "outputs": [],
      "source": [
        "# CW_TP_21.to_file(\"/home/azureuser/cloudfiles/code/blobfuse/sidewalk/processed_data/crossings_project/tiles/Osdorp complete/21 output/CW_TP_radius_21.shp\")\n",
        "# CW_FP_21.to_file(\"/home/azureuser/cloudfiles/code/blobfuse/sidewalk/processed_data/crossings_project/tiles/Osdorp complete/21 output/CW_FP_radius_21.shp\")\n",
        "# PSW_FN_21.to_file(\"/home/azureuser/cloudfiles/code/blobfuse/sidewalk/processed_data/crossings_project/tiles/Osdorp complete/21 output/PSW_WSG_FN_radius_21.shp\")"
      ]
    }
  ],
  "metadata": {
    "kernel_info": {
      "name": "tile2net"
    },
    "kernelspec": {
      "display_name": "Python tile2net",
      "language": "python",
      "name": "tile2net"
    },
    "microsoft": {
      "ms_spell_check": {
        "ms_spell_check_language": "en"
      }
    },
    "nteract": {
      "version": "nteract-front-end@1.0.0"
    }
  },
  "nbformat": 4,
  "nbformat_minor": 2
}
