{
  "cells": [
    {
      "cell_type": "code",
      "execution_count": 110,
      "metadata": {
        "gather": {
          "logged": 1716555635824
        },
        "jupyter": {
          "outputs_hidden": false,
          "source_hidden": false
        },
        "nteract": {
          "transient": {
            "deleting": false
          }
        }
      },
      "outputs": [],
      "source": [
        "from shapely.geometry import Point, Polygon\n",
        "import pandas as pd\n",
        "import geopandas as gpd\n",
        "import pyproj\n",
        "from shapely.ops import transform\n",
        "from shapely import wkt\n",
        "import shapely\n",
        "import pickle"
      ]
    },
    {
      "cell_type": "markdown",
      "metadata": {},
      "source": [
        "## Load data"
      ]
    },
    {
      "cell_type": "code",
      "execution_count": 111,
      "metadata": {
        "gather": {
          "logged": 1716566096064
        },
        "jupyter": {
          "outputs_hidden": false,
          "source_hidden": false
        },
        "nteract": {
          "transient": {
            "deleting": false
          }
        }
      },
      "outputs": [
        {
          "data": {
            "text/plain": [
              "0"
            ]
          },
          "execution_count": 111,
          "metadata": {},
          "output_type": "execute_result"
        }
      ],
      "source": [
        "# # Connect to blobfuse folder\n",
        "os.system('sudo blobfuse /home/azureuser/cloudfiles/code/blobfuse/sidewalk --tmp-path=/mnt/resource/blobfusetmp --config-file=/home/azureuser/cloudfiles/code/blobfuse/fuse_connection_sidewalk.cfg -o attr_timeout=3600 -o entry_timeout=3600 -o negative_timeout=3600 -o allow_other -o nonempty')\n",
        "os.system('sudo blobfuse /home/azureuser/cloudfiles/code/blobfuse/ovl --tmp-path=/mnt/resource/blobfusetmp --config-file=/home/azureuser/cloudfiles/code/blobfuse/fuse_connection_ovl.cfg -o attr_timeout=3600 -o entry_timeout=3600 -o negative_timeout=3600 -o allow_other -o nonempty')"
      ]
    },
    {
      "cell_type": "code",
      "execution_count": 112,
      "metadata": {
        "gather": {
          "logged": 1716554213385
        }
      },
      "outputs": [],
      "source": [
        "# Load polygons as put out by T2N\n",
        "raw_polygons = gpd.read_file(\"/home/azureuser/cloudfiles/code/blobfuse/sidewalk/processed_data/crossings_project/T2N output/Grachtengordel West/output-Polygons-22-05-2024_18.shp\")"
      ]
    },
    {
      "cell_type": "code",
      "execution_count": 123,
      "metadata": {
        "gather": {
          "logged": 1716554625074
        }
      },
      "outputs": [],
      "source": [
        "# Filter for crosswalks polygons\n",
        "CW_polygons = raw_polygons[raw_polygons['f_type'] == 'crosswalk']\n",
        "CW_polygons = CW_polygons.drop(columns='f_type')"
      ]
    },
    {
      "cell_type": "code",
      "execution_count": 143,
      "metadata": {},
      "outputs": [],
      "source": [
        "# Set CRS\n",
        "CRS = \"epsg:4326\""
      ]
    },
    {
      "cell_type": "markdown",
      "metadata": {},
      "source": [
        "We only want the crosswalks that are in the area we are interested in. T2N has generated crosswalks for a larger area so we filter for the correct areas."
      ]
    },
    {
      "cell_type": "code",
      "execution_count": 115,
      "metadata": {
        "gather": {
          "logged": 1716501009213
        }
      },
      "outputs": [
        {
          "name": "stderr",
          "output_type": "stream",
          "text": [
            "/tmp/ipykernel_68589/3836638206.py:5: FutureWarning: Series.__getitem__ treating keys as positions is deprecated. In a future version, integer keys will always be treated as labels (consistent with DataFrame behavior). To access a value by position, use `ser.iloc[pos]`\n",
            "  pol_string = GW_polygon.loc[0][0]\n"
          ]
        }
      ],
      "source": [
        "# Get polygon of area (as created in 1a)\n",
        "GW_polygon = pd.read_csv(\"../data/polygons/Grachtengordel West polygon.csv\")\n",
        "\n",
        "# Separate the polygon string\n",
        "pol_string = GW_polygon.loc[0][0]\n",
        "\n",
        "# Set polygon to correct format\n",
        "GW_polygon = wkt.loads(pol_string)"
      ]
    },
    {
      "cell_type": "code",
      "execution_count": 124,
      "metadata": {
        "gather": {
          "logged": 1716501047392
        }
      },
      "outputs": [],
      "source": [
        "# Only keep crosswalk polygons that fall within the bouds of the area\n",
        "indexes = []\n",
        "\n",
        "for CW in CW_polygons.itertuples():\n",
        "    if not (GW_polygon.intersects(CW[1])):\n",
        "        indexes.append(CW[0])\n",
        "\n",
        "# Drop rows based on index\n",
        "CW_polygons = CW_polygons.drop(index=indexes)\n",
        "CW_polygons = CW_polygons.reset_index(drop=True)"
      ]
    },
    {
      "cell_type": "code",
      "execution_count": 81,
      "metadata": {
        "gather": {
          "logged": 1716501065014
        }
      },
      "outputs": [],
      "source": [
        "# Save the filtered polygons\n",
        "CW_polygons_path = \"/home/azureuser/cloudfiles/code/blobfuse/sidewalk/processed_data/crossings_project/T2N output/Grachtengordel West/CW polygons\"\n",
        "\n",
        "CW_polygons.to_file(CW_polygons_path)"
      ]
    },
    {
      "cell_type": "code",
      "execution_count": 128,
      "metadata": {
        "gather": {
          "logged": 1716555584105
        },
        "jupyter": {
          "outputs_hidden": false,
          "source_hidden": false
        },
        "nteract": {
          "transient": {
            "deleting": false
          }
        }
      },
      "outputs": [],
      "source": [
        "# Retrieve Project Sidewalk gdf as created in 1a\n",
        "PSW_og = pd.read_csv(\"../data/PSW dfs/Grachtengordel CW PSW\")"
      ]
    },
    {
      "cell_type": "code",
      "execution_count": 129,
      "metadata": {
        "gather": {
          "logged": 1716555662105
        },
        "jupyter": {
          "outputs_hidden": false,
          "source_hidden": false
        },
        "nteract": {
          "transient": {
            "deleting": false
          }
        }
      },
      "outputs": [],
      "source": [
        "# Drop the unnecessary columns from the project sidewalk dataframe\n",
        "PSW = PSW_og.copy(deep=True)\n",
        "\n",
        "# Set correct format polygons\n",
        "PSW['geometry'] = PSW['geometry'].apply(wkt.loads)\n",
        "\n",
        "# Drop columns \n",
        "PSW = PSW.drop(['Unnamed: 0','attribute_id', 'osm_street_id', 'severity', 'is_temporary', 'image_capture_date', 'agree_count', 'disagree_count', 'notsure_count', 'label_tags'], axis=1)\n",
        "\n",
        "# Save as gdf\n",
        "PSW_gdf = gpd.GeoDataFrame(PSW, geometry='geometry')"
      ]
    },
    {
      "cell_type": "markdown",
      "metadata": {},
      "source": [
        "## Transformation\n",
        "We need to transform the PSW points to the same format as the crosswalk polygons so we can compare them."
      ]
    },
    {
      "cell_type": "code",
      "execution_count": 131,
      "metadata": {
        "gather": {
          "logged": 1716501209476
        }
      },
      "outputs": [
        {
          "name": "stderr",
          "output_type": "stream",
          "text": [
            "/anaconda/envs/tile2net/lib/python3.11/site-packages/pyproj/crs/crs.py:141: FutureWarning: '+init=<authority>:<code>' syntax is deprecated. '<authority>:<code>' is the preferred initialization method. When making the change, be mindful of axis order changes: https://pyproj4.github.io/pyproj/stable/gotchas.html#axis-order-changes-in-proj-6\n",
            "  in_crs_string = _prepare_from_proj_string(in_crs_string)\n",
            "/anaconda/envs/tile2net/lib/python3.11/site-packages/pyproj/crs/crs.py:141: FutureWarning: '+init=<authority>:<code>' syntax is deprecated. '<authority>:<code>' is the preferred initialization method. When making the change, be mindful of axis order changes: https://pyproj4.github.io/pyproj/stable/gotchas.html#axis-order-changes-in-proj-6\n",
            "  in_crs_string = _prepare_from_proj_string(in_crs_string)\n"
          ]
        }
      ],
      "source": [
        "project = pyproj.Transformer.from_proj(\n",
        "    pyproj.Proj(init='epsg:28992'), # source coordinate system\n",
        "    pyproj.Proj(init='epsg:4326')) # destination coordinate system\n",
        "\n",
        "# Function to transform the geometry of a gdf\n",
        "def apply_projection(geometry):\n",
        "    transformed_geometry = transform(project.transform, geometry)\n",
        "    return transformed_geometry"
      ]
    },
    {
      "cell_type": "markdown",
      "metadata": {},
      "source": [
        "As some PSW points do not overlap with the crosswalk they are supposed to tag, we change the points to bigger polygons. This will make sure we do not miss any true positives because of problems with the validation data."
      ]
    },
    {
      "cell_type": "code",
      "execution_count": 134,
      "metadata": {
        "gather": {
          "logged": 1716567697705
        }
      },
      "outputs": [],
      "source": [
        "# Copy the original PSW data twice\n",
        "PSW_point = PSW_gdf.copy()\n",
        "PSW_radius = PSW_gdf.copy()\n",
        "\n",
        "# Buffer the original PSW to create a circle instead of a point\n",
        "PSW_radius['geometry'] = PSW_radius['geometry'].buffer(4)\n",
        "\n",
        "# Apply the projection to both gdfs to transform the coordinates\n",
        "PSW_point['geometry'] = PSW_point['geometry'].apply(apply_projection)\n",
        "PSW_radius['geometry'] = PSW_radius['geometry'].apply(apply_projection)"
      ]
    },
    {
      "cell_type": "code",
      "execution_count": 88,
      "metadata": {},
      "outputs": [],
      "source": [
        "# Save the PSW points and the PSW circles for visual analysis in QGIS\n",
        "point_path = \"/home/azureuser/cloudfiles/code/blobfuse/sidewalk/processed_data/crossings_project/T2N output/Grachtengordel West/PSW point.shp\"\n",
        "radius_path = \"/home/azureuser/cloudfiles/code/blobfuse/sidewalk/processed_data/crossings_project/T2N output/Grachtengordel West/PSW radius.shp\"\n",
        "\n",
        "PSW_point.to_file(point_path)\n",
        "PSW_radius.to_file(radius_path)"
      ]
    },
    {
      "cell_type": "markdown",
      "metadata": {},
      "source": [
        "## Validation\n",
        "\n",
        "For the validation we need to consider four cases:\n",
        "- **True Positive**: crosswalk polygon that contains a PSW point.\n",
        "- **False Positive**: crosswalk polygon that does not contain a PSW point.\n",
        "- **True Negative**: no crosswalk polygon and no PSW point.\n",
        "- **False Negative**: PSW point that does not overlap with a crosswalk polygon.\n",
        "\n",
        "The first validation will be based on whether a project sidewalk point is contained fully in one of the polygons."
      ]
    },
    {
      "cell_type": "code",
      "execution_count": 163,
      "metadata": {
        "gather": {
          "logged": 1716564472943
        },
        "jupyter": {
          "outputs_hidden": false,
          "source_hidden": false
        },
        "nteract": {
          "transient": {
            "deleting": false
          }
        }
      },
      "outputs": [],
      "source": [
        "# Compute true positives and false positives\n",
        "def validate(CW_gdf, PSW_df):\n",
        "\n",
        "    CW_list = list(CW_gdf['geometry'])\n",
        "\n",
        "    TP = []\n",
        "    TP_index = []\n",
        "    FP = []\n",
        "    FP_index = []\n",
        "    FN = []\n",
        "    FN_index = []\n",
        "\n",
        "\n",
        "    # List to keep track of PSW points that have a match\n",
        "    PSW_matches = []\n",
        "\n",
        "    # Loop over all crosswalks\n",
        "    for i in range(0, len(CW_list)):\n",
        "\n",
        "        polygon = CW_list[i]\n",
        "\n",
        "        polygon_matches = []\n",
        "\n",
        "        for annotation in PSW_df.itertuples():\n",
        "            PSW_polygon = annotation[1]\n",
        "            PSW_index = annotation[0]\n",
        "\n",
        "            if polygon.intersects(PSW_polygon):\n",
        "                polygon_matches.append(PSW_index)\n",
        "\n",
        "                if PSW_index not in PSW_matches:\n",
        "                    PSW_matches.append(PSW_index)\n",
        "        \n",
        "        if len(polygon_matches) > 0:\n",
        "            TP.append([polygon, polygon_matches])\n",
        "            TP_index.append(i)\n",
        "\n",
        "        else:\n",
        "            #print(\"adding to FP\")\n",
        "            FP.append(polygon)\n",
        "            FP_index.append(i)\n",
        "\n",
        "    for i in range(0, len(PSW_df)):\n",
        "        if i not in list(PSW_matches):\n",
        "            FN.append(PSW_df.iloc[i][0])\n",
        "            FN_index.append(i)\n",
        "    \n",
        "    # Print results\n",
        "    print(\"TP: \", len(TP))\n",
        "    print(\"FP: \", len(FP))\n",
        "    print(\"FN: \", len(FN))\n",
        "    print(\"\\n\")\n",
        "    print(\"all PSW crosswalks: \", len(PSW_radius))\n",
        "    print(\"PSW crosswalks identified: \", len(PSW_matches))\n",
        "    print(\"total polygons T2N: \", len(FP) + len(TP))\n",
        "    print(\"\\n\")\n",
        "\n",
        "    precision = len(TP) / (len(TP) + len(FP))\n",
        "    recall = len(TP) / (len(TP) + len(FN))\n",
        "\n",
        "    print(\"Precision: \", precision)\n",
        "    print(\"Recall: \", recall)\n",
        "    print(\"\\n\")\n",
        "\n",
        "    # Create gdfs of polygons\n",
        "    TP_pols = []\n",
        "    for i in TP_index:\n",
        "        TP_pols.append(CW_polygons.iloc[i]['geometry'])\n",
        "\n",
        "    FP_pols = []\n",
        "    for i in FP_index:\n",
        "        FP_pols.append(CW_polygons.iloc[i]['geometry'])\n",
        "\n",
        "    TP_pols_df = pd.DataFrame({'geometry': TP_pols})\n",
        "    TP_pols_gdf = gpd.GeoDataFrame(TP_pols_df, geometry='geometry')\n",
        "    TP_pols_gdf = TP_pols_gdf.set_crs(CRS)\n",
        "\n",
        "    FP_pols_df = pd.DataFrame({'geometry': FP_pols})\n",
        "    FP_pols_gdf = gpd.GeoDataFrame(FP_pols_df, geometry='geometry')\n",
        "    FP_pols_gdf = FP_pols_gdf.set_crs(CRS)\n",
        "\n",
        "    FN_radius_df = pd.DataFrame({'geometry': FN})\n",
        "    FN_radius_gdf = gpd.GeoDataFrame(FN_radius_df, geometry='geometry')\n",
        "    FN_radius_gdf = FN_radius_gdf.set_crs(CRS)\n",
        "  \n",
        "\n",
        "    return TP_pols_gdf, FP_pols_gdf, FN_radius_gdf, PSW_matches"
      ]
    },
    {
      "cell_type": "code",
      "execution_count": 164,
      "metadata": {
        "gather": {
          "logged": 1716567705537
        },
        "jupyter": {
          "outputs_hidden": false,
          "source_hidden": false
        },
        "nteract": {
          "transient": {
            "deleting": false
          }
        }
      },
      "outputs": [
        {
          "name": "stdout",
          "output_type": "stream",
          "text": [
            "TP:  39\n",
            "FP:  26\n",
            "FN:  23\n",
            "\n",
            "\n",
            "all PSW crosswalks:  67\n",
            "PSW crosswalks identified:  44\n",
            "total polygons T2N:  65\n",
            "\n",
            "\n",
            "Precision:  0.6\n",
            "Recall:  0.6290322580645161\n",
            "\n",
            "\n"
          ]
        },
        {
          "name": "stderr",
          "output_type": "stream",
          "text": [
            "/tmp/ipykernel_68589/4082318298.py:45: FutureWarning: Series.__getitem__ treating keys as positions is deprecated. In a future version, integer keys will always be treated as labels (consistent with DataFrame behavior). To access a value by position, use `ser.iloc[pos]`\n",
            "  FN.append(PSW_df.iloc[i][0])\n"
          ]
        }
      ],
      "source": [
        "TP_pols_gdf, FP_pols_gdf, FN_radius_gdf, PSW_matches = validate(CW_polygons, PSW_radius)"
      ]
    },
    {
      "cell_type": "code",
      "execution_count": 93,
      "metadata": {
        "gather": {
          "logged": 1716567780113
        },
        "jupyter": {
          "outputs_hidden": false,
          "source_hidden": false
        },
        "nteract": {
          "transient": {
            "deleting": false
          }
        }
      },
      "outputs": [],
      "source": [
        "# Save TP, FP and FN polygons\n",
        "TP_path = \"/home/azureuser/cloudfiles/code/blobfuse/sidewalk/processed_data/crossings_project/T2N output/Grachtengordel West/TP polygons radius.shp\"\n",
        "FP_path = \"/home/azureuser/cloudfiles/code/blobfuse/sidewalk/processed_data/crossings_project/T2N output/Grachtengordel West/FP polygons radius.shp\"\n",
        "FN_path = \"/home/azureuser/cloudfiles/code/blobfuse/sidewalk/processed_data/crossings_project/T2N output/Grachtengordel West/FN polygons radius.shp\"\n",
        "\n",
        "TP_pols_gdf.to_file(TP_path)\n",
        "FP_pols_gdf.to_file(FP_path)\n",
        "FN_radius_gdf.to_file(FN_path)"
      ]
    }
  ],
  "metadata": {
    "kernel_info": {
      "name": "myenv"
    },
    "kernelspec": {
      "display_name": "Python tile2net",
      "language": "python",
      "name": "tile2net"
    },
    "language_info": {
      "codemirror_mode": {
        "name": "ipython",
        "version": 3
      },
      "file_extension": ".py",
      "mimetype": "text/x-python",
      "name": "python",
      "nbconvert_exporter": "python",
      "pygments_lexer": "ipython3",
      "version": "3.11.8"
    },
    "microsoft": {
      "host": {
        "AzureML": {
          "notebookHasBeenCompleted": true
        }
      },
      "ms_spell_check": {
        "ms_spell_check_language": "en"
      }
    },
    "nteract": {
      "version": "nteract-front-end@1.0.0"
    }
  },
  "nbformat": 4,
  "nbformat_minor": 2
}
